{
 "cells": [
  {
   "cell_type": "markdown",
   "metadata": {},
   "source": [
    "## Modeling : Predicting AQI - Ozone Arizona"
   ]
  },
  {
   "cell_type": "code",
   "execution_count": 1,
   "metadata": {
    "ExecuteTime": {
     "end_time": "2020-03-11T22:03:04.246674Z",
     "start_time": "2020-03-11T22:03:02.040346Z"
    }
   },
   "outputs": [],
   "source": [
    "import numpy as np\n",
    "import pandas as pd\n",
    "import seaborn as sns\n",
    "from matplotlib import pyplot as plt\n",
    "\n",
    "from sklearn.preprocessing import StandardScaler\n",
    "from sklearn.linear_model import LinearRegression, RidgeCV, LassoCV\n",
    "from sklearn.model_selection import train_test_split, cross_val_score, GridSearchCV\n",
    "from sklearn.pipeline import make_pipeline\n",
    "from sklearn.naive_bayes import MultinomialNB, GaussianNB\n",
    "from sklearn.svm import SVR\n",
    "from sklearn.neighbors import KNeighborsRegressor\n",
    "from sklearn.ensemble import AdaBoostRegressor, RandomForestRegressor, BaggingRegressor\n",
    "from sklearn.tree import DecisionTreeRegressor\n",
    "from sklearn import metrics\n",
    "from sklearn.decomposition import PCA\n",
    "import pickle"
   ]
  },
  {
   "cell_type": "code",
   "execution_count": 2,
   "metadata": {
    "ExecuteTime": {
     "end_time": "2020-03-11T22:03:07.376460Z",
     "start_time": "2020-03-11T22:03:04.248639Z"
    }
   },
   "outputs": [],
   "source": [
    "# Load air data with power plant information\n",
    "df = pd.read_csv('../data/ozone_pp_Arizona_mth_allpp_.csv') # yaer 2016, 2014, 2012, 2010, 2009, 2007, 2005, 2004\n",
    "\n",
    "# Load vehicle data\n",
    "df_rv = pd.read_csv('../data/registered_vehicles.csv')"
   ]
  },
  {
   "cell_type": "code",
   "execution_count": 3,
   "metadata": {
    "ExecuteTime": {
     "end_time": "2020-03-11T22:03:07.384468Z",
     "start_time": "2020-03-11T22:03:07.378454Z"
    }
   },
   "outputs": [],
   "source": [
    "pd.set_option('display.max_rows', 999)\n",
    "pd.set_option('display.max_columns', 999)"
   ]
  },
  {
   "cell_type": "code",
   "execution_count": 4,
   "metadata": {
    "ExecuteTime": {
     "end_time": "2020-03-11T22:03:07.421928Z",
     "start_time": "2020-03-11T22:03:07.387001Z"
    }
   },
   "outputs": [
    {
     "data": {
      "text/plain": [
       "array([2017, 2016, 2015, 2014, 2013, 2012, 2011, 2010, 2009, 2008, 2007,\n",
       "       2006, 2005, 2004, 2003], dtype=int64)"
      ]
     },
     "execution_count": 4,
     "metadata": {},
     "output_type": "execute_result"
    }
   ],
   "source": [
    "df_rv['year'].unique()"
   ]
  },
  {
   "cell_type": "code",
   "execution_count": 5,
   "metadata": {
    "ExecuteTime": {
     "end_time": "2020-03-11T22:03:07.467784Z",
     "start_time": "2020-03-11T22:03:07.423904Z"
    }
   },
   "outputs": [
    {
     "data": {
      "text/plain": [
       "array([2016, 2014, 2012, 2010, 2009, 2007, 2005, 2004], dtype=int64)"
      ]
     },
     "execution_count": 5,
     "metadata": {},
     "output_type": "execute_result"
    }
   ],
   "source": [
    "df['year'].unique()"
   ]
  },
  {
   "cell_type": "code",
   "execution_count": 6,
   "metadata": {
    "ExecuteTime": {
     "end_time": "2020-03-11T22:03:07.524661Z",
     "start_time": "2020-03-11T22:03:07.469780Z"
    }
   },
   "outputs": [
    {
     "data": {
      "text/plain": [
       "(1621557, 14)"
      ]
     },
     "execution_count": 6,
     "metadata": {},
     "output_type": "execute_result"
    }
   ],
   "source": [
    "df.shape"
   ]
  },
  {
   "cell_type": "code",
   "execution_count": 7,
   "metadata": {
    "ExecuteTime": {
     "end_time": "2020-03-11T22:03:07.948081Z",
     "start_time": "2020-03-11T22:03:07.527626Z"
    },
    "scrolled": true
   },
   "outputs": [],
   "source": [
    "# Drop rows of year 2018 as we don't have 2018 vehicle data\n",
    "df.drop(df[df['year'] == 2018].index, axis=0, inplace=True)"
   ]
  },
  {
   "cell_type": "code",
   "execution_count": 8,
   "metadata": {
    "ExecuteTime": {
     "end_time": "2020-03-11T22:03:07.956063Z",
     "start_time": "2020-03-11T22:03:07.951074Z"
    }
   },
   "outputs": [
    {
     "data": {
      "text/plain": [
       "(1621557, 14)"
      ]
     },
     "execution_count": 8,
     "metadata": {},
     "output_type": "execute_result"
    }
   ],
   "source": [
    "df.shape"
   ]
  },
  {
   "cell_type": "code",
   "execution_count": 9,
   "metadata": {
    "ExecuteTime": {
     "end_time": "2020-03-11T22:03:08.288915Z",
     "start_time": "2020-03-11T22:03:07.959346Z"
    }
   },
   "outputs": [],
   "source": [
    "df['date'] = pd.to_datetime(df['date'])"
   ]
  },
  {
   "cell_type": "code",
   "execution_count": 10,
   "metadata": {
    "ExecuteTime": {
     "end_time": "2020-03-11T22:03:09.467178Z",
     "start_time": "2020-03-11T22:03:08.290880Z"
    }
   },
   "outputs": [],
   "source": [
    "df = df.merge(df_rv, on=['state', 'year'], how='left')"
   ]
  },
  {
   "cell_type": "code",
   "execution_count": 11,
   "metadata": {
    "ExecuteTime": {
     "end_time": "2020-03-11T22:03:10.219273Z",
     "start_time": "2020-03-11T22:03:09.468176Z"
    }
   },
   "outputs": [
    {
     "data": {
      "text/plain": [
       "(0.4718028288546955, 4262.152577606613)"
      ]
     },
     "execution_count": 11,
     "metadata": {},
     "output_type": "execute_result"
    }
   ],
   "source": [
    "df_air = df[df['air_type'] == 'ozone']\n",
    "df_air['distance'].min(), df_air['distance'].max()"
   ]
  },
  {
   "cell_type": "code",
   "execution_count": 12,
   "metadata": {
    "ExecuteTime": {
     "end_time": "2020-03-11T22:03:10.248157Z",
     "start_time": "2020-03-11T22:03:10.221232Z"
    }
   },
   "outputs": [
    {
     "data": {
      "text/html": [
       "<div>\n",
       "<style scoped>\n",
       "    .dataframe tbody tr th:only-of-type {\n",
       "        vertical-align: middle;\n",
       "    }\n",
       "\n",
       "    .dataframe tbody tr th {\n",
       "        vertical-align: top;\n",
       "    }\n",
       "\n",
       "    .dataframe thead th {\n",
       "        text-align: right;\n",
       "    }\n",
       "</style>\n",
       "<table border=\"1\" class=\"dataframe\">\n",
       "  <thead>\n",
       "    <tr style=\"text-align: right;\">\n",
       "      <th></th>\n",
       "      <th>date</th>\n",
       "      <th>air_lat</th>\n",
       "      <th>air_long</th>\n",
       "      <th>air_type</th>\n",
       "      <th>aqi</th>\n",
       "      <th>pp_lat</th>\n",
       "      <th>pp_long</th>\n",
       "      <th>pp_boiler</th>\n",
       "      <th>fuel</th>\n",
       "      <th>distance</th>\n",
       "      <th>dir</th>\n",
       "      <th>state</th>\n",
       "      <th>year</th>\n",
       "      <th>month</th>\n",
       "      <th>automobile</th>\n",
       "      <th>bus</th>\n",
       "      <th>truck</th>\n",
       "      <th>motorcycle</th>\n",
       "      <th>all_mv</th>\n",
       "    </tr>\n",
       "  </thead>\n",
       "  <tbody>\n",
       "    <tr>\n",
       "      <th>0</th>\n",
       "      <td>2016-01-01</td>\n",
       "      <td>37.179125</td>\n",
       "      <td>-113.305096</td>\n",
       "      <td>ozone</td>\n",
       "      <td>25.923077</td>\n",
       "      <td>32.1825</td>\n",
       "      <td>-110.863333</td>\n",
       "      <td>0.0</td>\n",
       "      <td>Sun</td>\n",
       "      <td>371.39111</td>\n",
       "      <td>SE</td>\n",
       "      <td>Arizona</td>\n",
       "      <td>2016</td>\n",
       "      <td>1</td>\n",
       "      <td>2377962</td>\n",
       "      <td>9016.0</td>\n",
       "      <td>3233330</td>\n",
       "      <td>166583.0</td>\n",
       "      <td>5786891.0</td>\n",
       "    </tr>\n",
       "  </tbody>\n",
       "</table>\n",
       "</div>"
      ],
      "text/plain": [
       "        date    air_lat    air_long air_type        aqi   pp_lat     pp_long  \\\n",
       "0 2016-01-01  37.179125 -113.305096    ozone  25.923077  32.1825 -110.863333   \n",
       "\n",
       "   pp_boiler fuel   distance dir    state  year  month  automobile     bus  \\\n",
       "0        0.0  Sun  371.39111  SE  Arizona  2016      1     2377962  9016.0   \n",
       "\n",
       "     truck  motorcycle     all_mv  \n",
       "0  3233330    166583.0  5786891.0  "
      ]
     },
     "execution_count": 12,
     "metadata": {},
     "output_type": "execute_result"
    }
   ],
   "source": [
    "df_air.head(1)"
   ]
  },
  {
   "cell_type": "code",
   "execution_count": 13,
   "metadata": {
    "ExecuteTime": {
     "end_time": "2020-03-11T22:03:10.429672Z",
     "start_time": "2020-03-11T22:03:10.250152Z"
    }
   },
   "outputs": [],
   "source": [
    "df_50 = df_air[['air_lat', 'air_long', 'distance']][df_air['distance'] <= 50]\n",
    "df_100 = df_air[['air_lat', 'air_long', 'distance']][df_air['distance'] <= 100]\n",
    "df_150 = df_air[['air_lat', 'air_long', 'distance']][df_air['distance'] <= 150]"
   ]
  },
  {
   "cell_type": "code",
   "execution_count": 14,
   "metadata": {
    "ExecuteTime": {
     "end_time": "2020-03-11T22:03:10.454635Z",
     "start_time": "2020-03-11T22:03:10.431668Z"
    }
   },
   "outputs": [],
   "source": [
    "df_50.drop_duplicates(inplace=True)\n",
    "df_100.drop_duplicates(inplace=True)\n",
    "df_150.drop_duplicates(inplace=True)"
   ]
  },
  {
   "cell_type": "code",
   "execution_count": 15,
   "metadata": {
    "ExecuteTime": {
     "end_time": "2020-03-11T22:03:10.495499Z",
     "start_time": "2020-03-11T22:03:10.456601Z"
    }
   },
   "outputs": [],
   "source": [
    "df_50 = df_50.pivot_table(index=['air_lat', 'air_long'], values=['distance'], aggfunc='count')\n",
    "df_100 = df_100.pivot_table(index=['air_lat', 'air_long'], values=['distance'], aggfunc='count')\n",
    "df_150 = df_150.pivot_table(index=['air_lat', 'air_long'], values=['distance'], aggfunc='count')"
   ]
  },
  {
   "cell_type": "code",
   "execution_count": 16,
   "metadata": {
    "ExecuteTime": {
     "end_time": "2020-03-11T22:03:10.512452Z",
     "start_time": "2020-03-11T22:03:10.499488Z"
    }
   },
   "outputs": [],
   "source": [
    "df_50.reset_index(level=['air_lat', 'air_long'], inplace=True)\n",
    "df_100.reset_index(level=['air_lat', 'air_long'], inplace=True)\n",
    "df_150.reset_index(level=['air_lat', 'air_long'], inplace=True)"
   ]
  },
  {
   "cell_type": "code",
   "execution_count": 17,
   "metadata": {
    "ExecuteTime": {
     "end_time": "2020-03-11T22:03:10.539378Z",
     "start_time": "2020-03-11T22:03:10.515443Z"
    }
   },
   "outputs": [],
   "source": [
    "df_50.rename(columns = {'distance':'num_pp_50_mi'}, inplace = True)\n",
    "df_100.rename(columns = {'distance':'num_pp_100_mi'}, inplace = True)\n",
    "df_150.rename(columns = {'distance':'num_pp_150_mi'}, inplace = True)"
   ]
  },
  {
   "cell_type": "code",
   "execution_count": 18,
   "metadata": {
    "ExecuteTime": {
     "end_time": "2020-03-11T22:03:14.702652Z",
     "start_time": "2020-03-11T22:03:10.541374Z"
    }
   },
   "outputs": [
    {
     "data": {
      "text/html": [
       "<div>\n",
       "<style scoped>\n",
       "    .dataframe tbody tr th:only-of-type {\n",
       "        vertical-align: middle;\n",
       "    }\n",
       "\n",
       "    .dataframe tbody tr th {\n",
       "        vertical-align: top;\n",
       "    }\n",
       "\n",
       "    .dataframe thead th {\n",
       "        text-align: right;\n",
       "    }\n",
       "</style>\n",
       "<table border=\"1\" class=\"dataframe\">\n",
       "  <thead>\n",
       "    <tr style=\"text-align: right;\">\n",
       "      <th></th>\n",
       "      <th>date</th>\n",
       "      <th>air_lat</th>\n",
       "      <th>air_long</th>\n",
       "      <th>air_type</th>\n",
       "      <th>aqi</th>\n",
       "      <th>pp_lat</th>\n",
       "      <th>pp_long</th>\n",
       "      <th>pp_boiler</th>\n",
       "      <th>fuel</th>\n",
       "      <th>distance</th>\n",
       "      <th>dir</th>\n",
       "      <th>state</th>\n",
       "      <th>year</th>\n",
       "      <th>month</th>\n",
       "      <th>automobile</th>\n",
       "      <th>bus</th>\n",
       "      <th>truck</th>\n",
       "      <th>motorcycle</th>\n",
       "      <th>all_mv</th>\n",
       "      <th>num_pp_50_mi</th>\n",
       "      <th>num_pp_100_mi</th>\n",
       "      <th>num_pp_150_mi</th>\n",
       "    </tr>\n",
       "  </thead>\n",
       "  <tbody>\n",
       "    <tr>\n",
       "      <th>0</th>\n",
       "      <td>2016-01-01</td>\n",
       "      <td>37.179125</td>\n",
       "      <td>-113.305096</td>\n",
       "      <td>ozone</td>\n",
       "      <td>25.923077</td>\n",
       "      <td>32.182500</td>\n",
       "      <td>-110.863333</td>\n",
       "      <td>0.0</td>\n",
       "      <td>Sun</td>\n",
       "      <td>371.391110</td>\n",
       "      <td>SE</td>\n",
       "      <td>Arizona</td>\n",
       "      <td>2016</td>\n",
       "      <td>1</td>\n",
       "      <td>2377962</td>\n",
       "      <td>9016.0</td>\n",
       "      <td>3233330</td>\n",
       "      <td>166583.0</td>\n",
       "      <td>5786891.0</td>\n",
       "      <td>23</td>\n",
       "      <td>46</td>\n",
       "      <td>99</td>\n",
       "    </tr>\n",
       "    <tr>\n",
       "      <th>1</th>\n",
       "      <td>2016-01-01</td>\n",
       "      <td>37.179125</td>\n",
       "      <td>-113.305096</td>\n",
       "      <td>ozone</td>\n",
       "      <td>25.923077</td>\n",
       "      <td>32.977400</td>\n",
       "      <td>-113.494500</td>\n",
       "      <td>0.0</td>\n",
       "      <td>Sun</td>\n",
       "      <td>289.849857</td>\n",
       "      <td>SW</td>\n",
       "      <td>Arizona</td>\n",
       "      <td>2016</td>\n",
       "      <td>1</td>\n",
       "      <td>2377962</td>\n",
       "      <td>9016.0</td>\n",
       "      <td>3233330</td>\n",
       "      <td>166583.0</td>\n",
       "      <td>5786891.0</td>\n",
       "      <td>23</td>\n",
       "      <td>46</td>\n",
       "      <td>99</td>\n",
       "    </tr>\n",
       "    <tr>\n",
       "      <th>2</th>\n",
       "      <td>2016-01-01</td>\n",
       "      <td>37.179125</td>\n",
       "      <td>-113.305096</td>\n",
       "      <td>ozone</td>\n",
       "      <td>25.923077</td>\n",
       "      <td>33.556100</td>\n",
       "      <td>-112.215300</td>\n",
       "      <td>3.0</td>\n",
       "      <td>Gas</td>\n",
       "      <td>257.233017</td>\n",
       "      <td>SE</td>\n",
       "      <td>Arizona</td>\n",
       "      <td>2016</td>\n",
       "      <td>1</td>\n",
       "      <td>2377962</td>\n",
       "      <td>9016.0</td>\n",
       "      <td>3233330</td>\n",
       "      <td>166583.0</td>\n",
       "      <td>5786891.0</td>\n",
       "      <td>23</td>\n",
       "      <td>46</td>\n",
       "      <td>99</td>\n",
       "    </tr>\n",
       "    <tr>\n",
       "      <th>3</th>\n",
       "      <td>2016-01-01</td>\n",
       "      <td>37.179125</td>\n",
       "      <td>-113.305096</td>\n",
       "      <td>ozone</td>\n",
       "      <td>25.923077</td>\n",
       "      <td>32.108147</td>\n",
       "      <td>-110.824662</td>\n",
       "      <td>0.0</td>\n",
       "      <td>Sun</td>\n",
       "      <td>376.987845</td>\n",
       "      <td>SE</td>\n",
       "      <td>Arizona</td>\n",
       "      <td>2016</td>\n",
       "      <td>1</td>\n",
       "      <td>2377962</td>\n",
       "      <td>9016.0</td>\n",
       "      <td>3233330</td>\n",
       "      <td>166583.0</td>\n",
       "      <td>5786891.0</td>\n",
       "      <td>23</td>\n",
       "      <td>46</td>\n",
       "      <td>99</td>\n",
       "    </tr>\n",
       "    <tr>\n",
       "      <th>4</th>\n",
       "      <td>2016-01-01</td>\n",
       "      <td>37.179125</td>\n",
       "      <td>-113.305096</td>\n",
       "      <td>ozone</td>\n",
       "      <td>25.923077</td>\n",
       "      <td>32.269000</td>\n",
       "      <td>-110.975000</td>\n",
       "      <td>0.0</td>\n",
       "      <td>Sun</td>\n",
       "      <td>363.481475</td>\n",
       "      <td>SE</td>\n",
       "      <td>Arizona</td>\n",
       "      <td>2016</td>\n",
       "      <td>1</td>\n",
       "      <td>2377962</td>\n",
       "      <td>9016.0</td>\n",
       "      <td>3233330</td>\n",
       "      <td>166583.0</td>\n",
       "      <td>5786891.0</td>\n",
       "      <td>23</td>\n",
       "      <td>46</td>\n",
       "      <td>99</td>\n",
       "    </tr>\n",
       "  </tbody>\n",
       "</table>\n",
       "</div>"
      ],
      "text/plain": [
       "        date    air_lat    air_long air_type        aqi     pp_lat  \\\n",
       "0 2016-01-01  37.179125 -113.305096    ozone  25.923077  32.182500   \n",
       "1 2016-01-01  37.179125 -113.305096    ozone  25.923077  32.977400   \n",
       "2 2016-01-01  37.179125 -113.305096    ozone  25.923077  33.556100   \n",
       "3 2016-01-01  37.179125 -113.305096    ozone  25.923077  32.108147   \n",
       "4 2016-01-01  37.179125 -113.305096    ozone  25.923077  32.269000   \n",
       "\n",
       "      pp_long  pp_boiler fuel    distance dir    state  year  month  \\\n",
       "0 -110.863333        0.0  Sun  371.391110  SE  Arizona  2016      1   \n",
       "1 -113.494500        0.0  Sun  289.849857  SW  Arizona  2016      1   \n",
       "2 -112.215300        3.0  Gas  257.233017  SE  Arizona  2016      1   \n",
       "3 -110.824662        0.0  Sun  376.987845  SE  Arizona  2016      1   \n",
       "4 -110.975000        0.0  Sun  363.481475  SE  Arizona  2016      1   \n",
       "\n",
       "   automobile     bus    truck  motorcycle     all_mv  num_pp_50_mi  \\\n",
       "0     2377962  9016.0  3233330    166583.0  5786891.0            23   \n",
       "1     2377962  9016.0  3233330    166583.0  5786891.0            23   \n",
       "2     2377962  9016.0  3233330    166583.0  5786891.0            23   \n",
       "3     2377962  9016.0  3233330    166583.0  5786891.0            23   \n",
       "4     2377962  9016.0  3233330    166583.0  5786891.0            23   \n",
       "\n",
       "   num_pp_100_mi  num_pp_150_mi  \n",
       "0             46             99  \n",
       "1             46             99  \n",
       "2             46             99  \n",
       "3             46             99  \n",
       "4             46             99  "
      ]
     },
     "execution_count": 18,
     "metadata": {},
     "output_type": "execute_result"
    }
   ],
   "source": [
    "df_air = df_air.merge(df_50, on=['air_lat', 'air_long'], how='left')\n",
    "df_air = df_air.merge(df_100, on=['air_lat', 'air_long'], how='left')\n",
    "df_air = df_air.merge(df_150, on=['air_lat', 'air_long'], how='left')\n",
    "df_air.head()"
   ]
  },
  {
   "cell_type": "code",
   "execution_count": 19,
   "metadata": {
    "ExecuteTime": {
     "end_time": "2020-03-11T22:03:15.518869Z",
     "start_time": "2020-03-11T22:03:14.704643Z"
    }
   },
   "outputs": [
    {
     "data": {
      "text/plain": [
       "date             0\n",
       "air_lat          0\n",
       "air_long         0\n",
       "air_type         0\n",
       "aqi              0\n",
       "pp_lat           0\n",
       "pp_long          0\n",
       "pp_boiler        0\n",
       "fuel             0\n",
       "distance         0\n",
       "dir              0\n",
       "state            0\n",
       "year             0\n",
       "month            0\n",
       "automobile       0\n",
       "bus              0\n",
       "truck            0\n",
       "motorcycle       0\n",
       "all_mv           0\n",
       "num_pp_50_mi     0\n",
       "num_pp_100_mi    0\n",
       "num_pp_150_mi    0\n",
       "dtype: int64"
      ]
     },
     "execution_count": 19,
     "metadata": {},
     "output_type": "execute_result"
    }
   ],
   "source": [
    "df_air.isnull().sum()"
   ]
  },
  {
   "cell_type": "code",
   "execution_count": 20,
   "metadata": {
    "ExecuteTime": {
     "end_time": "2020-03-11T22:03:16.004275Z",
     "start_time": "2020-03-11T22:03:15.520863Z"
    }
   },
   "outputs": [],
   "source": [
    "df_air.fillna(0, inplace=True)"
   ]
  },
  {
   "cell_type": "code",
   "execution_count": 21,
   "metadata": {
    "ExecuteTime": {
     "end_time": "2020-03-11T22:03:16.447538Z",
     "start_time": "2020-03-11T22:03:16.007267Z"
    }
   },
   "outputs": [
    {
     "data": {
      "text/plain": [
       "date             0\n",
       "air_lat          0\n",
       "air_long         0\n",
       "air_type         0\n",
       "aqi              0\n",
       "pp_lat           0\n",
       "pp_long          0\n",
       "pp_boiler        0\n",
       "fuel             0\n",
       "distance         0\n",
       "dir              0\n",
       "state            0\n",
       "year             0\n",
       "month            0\n",
       "automobile       0\n",
       "bus              0\n",
       "truck            0\n",
       "motorcycle       0\n",
       "all_mv           0\n",
       "num_pp_50_mi     0\n",
       "num_pp_100_mi    0\n",
       "num_pp_150_mi    0\n",
       "dtype: int64"
      ]
     },
     "execution_count": 21,
     "metadata": {},
     "output_type": "execute_result"
    }
   ],
   "source": [
    "df_air.isnull().sum()"
   ]
  },
  {
   "cell_type": "code",
   "execution_count": 22,
   "metadata": {
    "ExecuteTime": {
     "end_time": "2020-03-11T22:03:18.281836Z",
     "start_time": "2020-03-11T22:03:16.451528Z"
    }
   },
   "outputs": [
    {
     "data": {
      "text/plain": [
       "aqi  aqi              1.000000\n",
       "     automobile       0.081376\n",
       "     all_mv           0.034649\n",
       "     pp_lat           0.033956\n",
       "     pp_boiler        0.019802\n",
       "     num_pp_50_mi     0.000669\n",
       "     pp_long         -0.008908\n",
       "     truck           -0.020112\n",
       "     air_long        -0.025749\n",
       "     air_lat         -0.027315\n",
       "     distance        -0.032108\n",
       "     motorcycle      -0.037972\n",
       "     num_pp_100_mi   -0.040705\n",
       "     month           -0.105911\n",
       "     bus             -0.108406\n",
       "     num_pp_150_mi   -0.109465\n",
       "     year            -0.322246\n",
       "dtype: float64"
      ]
     },
     "execution_count": 22,
     "metadata": {},
     "output_type": "execute_result"
    }
   ],
   "source": [
    "df_air.corr()[['aqi']].unstack().sort_values(kind=\"quicksort\", ascending = False)"
   ]
  },
  {
   "cell_type": "code",
   "execution_count": 23,
   "metadata": {
    "ExecuteTime": {
     "end_time": "2020-03-11T22:03:22.684918Z",
     "start_time": "2020-03-11T22:03:18.290815Z"
    }
   },
   "outputs": [
    {
     "data": {
      "image/png": "[encoded data removed]",
      "text/plain": [
       "<Figure size 1080x1080 with 20 Axes>"
      ]
     },
     "metadata": {
      "needs_background": "light"
     },
     "output_type": "display_data"
    }
   ],
   "source": [
    "df_air.hist(figsize=(15,15), bins=24);"
   ]
  },
  {
   "cell_type": "markdown",
   "metadata": {},
   "source": [
    "#### Preparing X and y"
   ]
  },
  {
   "cell_type": "code",
   "execution_count": 24,
   "metadata": {
    "ExecuteTime": {
     "end_time": "2020-03-11T22:03:22.693894Z",
     "start_time": "2020-03-11T22:03:22.687910Z"
    }
   },
   "outputs": [
    {
     "data": {
      "text/plain": [
       "Index(['date', 'air_lat', 'air_long', 'air_type', 'aqi', 'pp_lat', 'pp_long',\n",
       "       'pp_boiler', 'fuel', 'distance', 'dir', 'state', 'year', 'month',\n",
       "       'automobile', 'bus', 'truck', 'motorcycle', 'all_mv', 'num_pp_50_mi',\n",
       "       'num_pp_100_mi', 'num_pp_150_mi'],\n",
       "      dtype='object')"
      ]
     },
     "execution_count": 24,
     "metadata": {},
     "output_type": "execute_result"
    }
   ],
   "source": [
    "df_air.columns"
   ]
  },
  {
   "cell_type": "code",
   "execution_count": 25,
   "metadata": {
    "ExecuteTime": {
     "end_time": "2020-03-11T22:03:22.908320Z",
     "start_time": "2020-03-11T22:03:22.696915Z"
    },
    "scrolled": true
   },
   "outputs": [],
   "source": [
    "# 'date' column will be used only for timeseries modeling\n",
    "X = df_air.drop(columns=['date', 'air_lat', 'air_long', 'air_type', 'aqi'], axis=1)\n",
    "y = df_air['aqi']"
   ]
  },
  {
   "cell_type": "code",
   "execution_count": 26,
   "metadata": {
    "ExecuteTime": {
     "end_time": "2020-03-11T22:03:23.110563Z",
     "start_time": "2020-03-11T22:03:22.910315Z"
    }
   },
   "outputs": [],
   "source": [
    "simul = X.copy()"
   ]
  },
  {
   "cell_type": "code",
   "execution_count": 27,
   "metadata": {
    "ExecuteTime": {
     "end_time": "2020-03-11T22:03:24.120961Z",
     "start_time": "2020-03-11T22:03:23.112558Z"
    }
   },
   "outputs": [],
   "source": [
    "X = X.drop(columns=['pp_lat', 'pp_long'], axis=1)\n",
    "X = pd.get_dummies(X, columns=['fuel', 'dir', 'month', 'state'], drop_first=True)"
   ]
  },
  {
   "cell_type": "code",
   "execution_count": 28,
   "metadata": {
    "ExecuteTime": {
     "end_time": "2020-03-11T22:03:24.157115Z",
     "start_time": "2020-03-11T22:03:24.123202Z"
    }
   },
   "outputs": [
    {
     "data": {
      "text/html": [
       "<div>\n",
       "<style scoped>\n",
       "    .dataframe tbody tr th:only-of-type {\n",
       "        vertical-align: middle;\n",
       "    }\n",
       "\n",
       "    .dataframe tbody tr th {\n",
       "        vertical-align: top;\n",
       "    }\n",
       "\n",
       "    .dataframe thead th {\n",
       "        text-align: right;\n",
       "    }\n",
       "</style>\n",
       "<table border=\"1\" class=\"dataframe\">\n",
       "  <thead>\n",
       "    <tr style=\"text-align: right;\">\n",
       "      <th></th>\n",
       "      <th>pp_boiler</th>\n",
       "      <th>distance</th>\n",
       "      <th>year</th>\n",
       "      <th>automobile</th>\n",
       "      <th>bus</th>\n",
       "      <th>truck</th>\n",
       "      <th>motorcycle</th>\n",
       "      <th>all_mv</th>\n",
       "      <th>num_pp_50_mi</th>\n",
       "      <th>num_pp_100_mi</th>\n",
       "      <th>num_pp_150_mi</th>\n",
       "      <th>fuel_Fossil_fuel</th>\n",
       "      <th>fuel_Gas</th>\n",
       "      <th>fuel_Hydro</th>\n",
       "      <th>fuel_Nuclear</th>\n",
       "      <th>fuel_Oil</th>\n",
       "      <th>fuel_Sun</th>\n",
       "      <th>fuel_Wind</th>\n",
       "      <th>dir_NW</th>\n",
       "      <th>dir_SE</th>\n",
       "      <th>dir_SW</th>\n",
       "      <th>month_2</th>\n",
       "      <th>month_3</th>\n",
       "      <th>month_4</th>\n",
       "      <th>month_5</th>\n",
       "      <th>month_6</th>\n",
       "      <th>month_7</th>\n",
       "      <th>month_8</th>\n",
       "      <th>month_9</th>\n",
       "      <th>month_10</th>\n",
       "      <th>month_11</th>\n",
       "      <th>month_12</th>\n",
       "      <th>state_California</th>\n",
       "      <th>state_Colorado</th>\n",
       "      <th>state_Nevada</th>\n",
       "      <th>state_New Mexico</th>\n",
       "      <th>state_Utah</th>\n",
       "    </tr>\n",
       "  </thead>\n",
       "  <tbody>\n",
       "    <tr>\n",
       "      <th>0</th>\n",
       "      <td>0.0</td>\n",
       "      <td>371.39111</td>\n",
       "      <td>2016</td>\n",
       "      <td>2377962</td>\n",
       "      <td>9016.0</td>\n",
       "      <td>3233330</td>\n",
       "      <td>166583.0</td>\n",
       "      <td>5786891.0</td>\n",
       "      <td>23</td>\n",
       "      <td>46</td>\n",
       "      <td>99</td>\n",
       "      <td>0</td>\n",
       "      <td>0</td>\n",
       "      <td>0</td>\n",
       "      <td>0</td>\n",
       "      <td>0</td>\n",
       "      <td>1</td>\n",
       "      <td>0</td>\n",
       "      <td>0</td>\n",
       "      <td>1</td>\n",
       "      <td>0</td>\n",
       "      <td>0</td>\n",
       "      <td>0</td>\n",
       "      <td>0</td>\n",
       "      <td>0</td>\n",
       "      <td>0</td>\n",
       "      <td>0</td>\n",
       "      <td>0</td>\n",
       "      <td>0</td>\n",
       "      <td>0</td>\n",
       "      <td>0</td>\n",
       "      <td>0</td>\n",
       "      <td>0</td>\n",
       "      <td>0</td>\n",
       "      <td>0</td>\n",
       "      <td>0</td>\n",
       "      <td>0</td>\n",
       "    </tr>\n",
       "  </tbody>\n",
       "</table>\n",
       "</div>"
      ],
      "text/plain": [
       "   pp_boiler   distance  year  automobile     bus    truck  motorcycle  \\\n",
       "0        0.0  371.39111  2016     2377962  9016.0  3233330    166583.0   \n",
       "\n",
       "      all_mv  num_pp_50_mi  num_pp_100_mi  num_pp_150_mi  fuel_Fossil_fuel  \\\n",
       "0  5786891.0            23             46             99                 0   \n",
       "\n",
       "   fuel_Gas  fuel_Hydro  fuel_Nuclear  fuel_Oil  fuel_Sun  fuel_Wind  dir_NW  \\\n",
       "0         0           0             0         0         1          0       0   \n",
       "\n",
       "   dir_SE  dir_SW  month_2  month_3  month_4  month_5  month_6  month_7  \\\n",
       "0       1       0        0        0        0        0        0        0   \n",
       "\n",
       "   month_8  month_9  month_10  month_11  month_12  state_California  \\\n",
       "0        0        0         0         0         0                 0   \n",
       "\n",
       "   state_Colorado  state_Nevada  state_New Mexico  state_Utah  \n",
       "0               0             0                 0           0  "
      ]
     },
     "execution_count": 28,
     "metadata": {},
     "output_type": "execute_result"
    }
   ],
   "source": [
    "X.head(1)"
   ]
  },
  {
   "cell_type": "code",
   "execution_count": 29,
   "metadata": {
    "ExecuteTime": {
     "end_time": "2020-03-11T22:03:24.167085Z",
     "start_time": "2020-03-11T22:03:24.160104Z"
    },
    "scrolled": true
   },
   "outputs": [
    {
     "data": {
      "text/plain": [
       "Index(['pp_boiler', 'distance', 'year', 'automobile', 'bus', 'truck',\n",
       "       'motorcycle', 'all_mv', 'num_pp_50_mi', 'num_pp_100_mi',\n",
       "       'num_pp_150_mi', 'fuel_Fossil_fuel', 'fuel_Gas', 'fuel_Hydro',\n",
       "       'fuel_Nuclear', 'fuel_Oil', 'fuel_Sun', 'fuel_Wind', 'dir_NW', 'dir_SE',\n",
       "       'dir_SW', 'month_2', 'month_3', 'month_4', 'month_5', 'month_6',\n",
       "       'month_7', 'month_8', 'month_9', 'month_10', 'month_11', 'month_12',\n",
       "       'state_California', 'state_Colorado', 'state_Nevada',\n",
       "       'state_New Mexico', 'state_Utah'],\n",
       "      dtype='object')"
      ]
     },
     "execution_count": 29,
     "metadata": {},
     "output_type": "execute_result"
    }
   ],
   "source": [
    "X.columns"
   ]
  },
  {
   "cell_type": "code",
   "execution_count": 30,
   "metadata": {
    "ExecuteTime": {
     "end_time": "2020-03-11T22:03:25.403641Z",
     "start_time": "2020-03-11T22:03:24.169080Z"
    }
   },
   "outputs": [],
   "source": [
    "X_train, X_test, y_train, y_test = train_test_split(X, y, random_state=42)"
   ]
  },
  {
   "cell_type": "code",
   "execution_count": 31,
   "metadata": {
    "ExecuteTime": {
     "end_time": "2020-03-11T22:03:25.416084Z",
     "start_time": "2020-03-11T22:03:25.407587Z"
    }
   },
   "outputs": [
    {
     "data": {
      "text/plain": [
       "((1216167, 37), (405390, 37), (1216167,), (405390,))"
      ]
     },
     "execution_count": 31,
     "metadata": {},
     "output_type": "execute_result"
    }
   ],
   "source": [
    "X_train.shape, X_test.shape, y_train.shape, y_test.shape"
   ]
  },
  {
   "cell_type": "code",
   "execution_count": 32,
   "metadata": {
    "ExecuteTime": {
     "end_time": "2020-03-11T22:03:25.451984Z",
     "start_time": "2020-03-11T22:03:25.419076Z"
    }
   },
   "outputs": [],
   "source": [
    "sc = StandardScaler()"
   ]
  },
  {
   "cell_type": "code",
   "execution_count": 33,
   "metadata": {
    "ExecuteTime": {
     "end_time": "2020-03-11T22:03:28.338302Z",
     "start_time": "2020-03-11T22:03:25.454976Z"
    },
    "scrolled": true
   },
   "outputs": [],
   "source": [
    "X_train_sc = sc.fit_transform(X_train)\n",
    "X_test_sc = sc.transform(X_test)"
   ]
  },
  {
   "cell_type": "markdown",
   "metadata": {},
   "source": [
    "#### Decision Tree Regressor"
   ]
  },
  {
   "cell_type": "code",
   "execution_count": 89,
   "metadata": {
    "ExecuteTime": {
     "end_time": "2020-03-10T02:52:47.703532Z",
     "start_time": "2020-03-10T02:52:34.339381Z"
    }
   },
   "outputs": [
    {
     "data": {
      "text/plain": [
       "(0.9009659293569807, 0.90186177582613)"
      ]
     },
     "execution_count": 89,
     "metadata": {},
     "output_type": "execute_result"
    }
   ],
   "source": [
    "dt1 = DecisionTreeRegressor(max_depth=10,\n",
    "                           min_samples_leaf=7,\n",
    "                           min_samples_split=20,\n",
    "                           random_state=42)\n",
    "dt1.fit(X_train, y_train)\n",
    "dt1.score(X_train, y_train), dt1.score(X_test, y_test)"
   ]
  },
  {
   "cell_type": "code",
   "execution_count": 90,
   "metadata": {
    "ExecuteTime": {
     "end_time": "2020-03-10T02:53:06.019430Z",
     "start_time": "2020-03-10T02:52:47.705527Z"
    }
   },
   "outputs": [
    {
     "data": {
      "text/plain": [
       "(0.9998205259084376, 0.9998171539806865)"
      ]
     },
     "execution_count": 90,
     "metadata": {},
     "output_type": "execute_result"
    }
   ],
   "source": [
    "dt2 = DecisionTreeRegressor(max_depth=20,\n",
    "                           min_samples_leaf=10,\n",
    "                           min_samples_split=3,\n",
    "                           random_state=42)\n",
    "dt2.fit(X_train, y_train)\n",
    "dt2.score(X_train, y_train), dt2.score(X_test, y_test)"
   ]
  },
  {
   "cell_type": "code",
   "execution_count": 34,
   "metadata": {
    "ExecuteTime": {
     "end_time": "2020-03-11T22:03:48.260227Z",
     "start_time": "2020-03-11T22:03:28.340296Z"
    }
   },
   "outputs": [
    {
     "data": {
      "text/plain": [
       "(0.9998205259084376, 0.9998171539806865)"
      ]
     },
     "execution_count": 34,
     "metadata": {},
     "output_type": "execute_result"
    }
   ],
   "source": [
    "dt3 = DecisionTreeRegressor(max_depth=20,\n",
    "                           min_samples_leaf=20,\n",
    "                           min_samples_split=3,\n",
    "                           random_state=42)\n",
    "dt3.fit(X_train, y_train)\n",
    "dt3.score(X_train, y_train), dt3.score(X_test, y_test)"
   ]
  },
  {
   "cell_type": "markdown",
   "metadata": {},
   "source": [
    "#### RandomForestRegressor"
   ]
  },
  {
   "cell_type": "code",
   "execution_count": 35,
   "metadata": {
    "ExecuteTime": {
     "end_time": "2020-03-11T22:25:38.068498Z",
     "start_time": "2020-03-11T22:04:20.501139Z"
    }
   },
   "outputs": [
    {
     "data": {
      "text/plain": [
       "(0.9998209339494756, 0.9998174591436612)"
      ]
     },
     "execution_count": 35,
     "metadata": {},
     "output_type": "execute_result"
    }
   ],
   "source": [
    "rf1 = RandomForestRegressor(random_state=42, max_depth= 20, n_estimators= 100)\n",
    "rf1.fit(X_train, y_train)\n",
    "rf1.score(X_train, y_train), rf1.score(X_test, y_test)"
   ]
  },
  {
   "cell_type": "code",
   "execution_count": 36,
   "metadata": {
    "ExecuteTime": {
     "end_time": "2020-03-11T22:25:38.149856Z",
     "start_time": "2020-03-11T22:25:38.071490Z"
    }
   },
   "outputs": [],
   "source": [
    "df_result = pd.DataFrame()\n",
    "df_result['features'] = X_train.columns\n",
    "df_result['importance'] = rf1.feature_importances_\n",
    "df_imp = df_result.sort_values(by='importance', ascending=False)\n",
    "df_imp.reset_index(drop=True, inplace = True)"
   ]
  },
  {
   "cell_type": "code",
   "execution_count": 45,
   "metadata": {
    "ExecuteTime": {
     "end_time": "2020-03-13T01:45:18.610815Z",
     "start_time": "2020-03-13T01:45:16.139939Z"
    }
   },
   "outputs": [
    {
     "data": {
      "image/png": "[encoded data removed]",
      "text/plain": [
       "<Figure size 1008x432 with 1 Axes>"
      ]
     },
     "metadata": {
      "needs_background": "light"
     },
     "output_type": "display_data"
    }
   ],
   "source": [
    "# Draw a barchart of performance of models\n",
    "fig = plt.figure(figsize = (14, 6))\n",
    "plt.bar(df_imp['features'], df_imp['importance'] * 100, color = 'gray')\n",
    "plt.xticks(rotation=90)\n",
    "plt.ylim(0, 20)\n",
    "\n",
    "for width, height in enumerate(df_imp['importance']):\n",
    "    plt.text(width-0.3, height * 100 + 0.5, round(height * 100, 2), rotation=90)\n",
    "\n",
    "fig.suptitle('Importance of features: Ozone', fontsize=20)\n",
    "# plt.xlabel('[Model]', fontsize=16, position=(0.95,100))\n",
    "plt.ylabel('[%]', fontsize=16, rotation=0, position=(0,1.05))\n",
    "# plt.xticks(fontsize=15)\n",
    "# plt.yticks(fontsize=12)\n",
    "fig.savefig('../img/feature_importance_ozone_utah.png');"
   ]
  },
  {
   "cell_type": "markdown",
   "metadata": {},
   "source": [
    "Pickle a model"
   ]
  },
  {
   "cell_type": "code",
   "execution_count": 43,
   "metadata": {
    "ExecuteTime": {
     "end_time": "2020-03-12T00:00:19.975781Z",
     "start_time": "2020-03-12T00:00:19.810509Z"
    }
   },
   "outputs": [],
   "source": [
    "model_fn = './pickles/rf_ozone_Arizona_dsi.pickle'\n",
    "\n",
    "with open(model_fn, 'wb') as f:\n",
    "    pickle.dump(rf1, f)"
   ]
  },
  {
   "cell_type": "markdown",
   "metadata": {},
   "source": [
    "Load and test picked model"
   ]
  },
  {
   "cell_type": "code",
   "execution_count": 44,
   "metadata": {
    "ExecuteTime": {
     "end_time": "2020-03-12T00:00:20.851970Z",
     "start_time": "2020-03-12T00:00:20.785820Z"
    }
   },
   "outputs": [],
   "source": [
    "model_fn = './pickles/rf_ozone_Arizona_dsi.pickle'\n",
    "    \n",
    "with open(model_fn, 'rb') as f:\n",
    "    mdl = pickle.load(f)"
   ]
  },
  {
   "cell_type": "code",
   "execution_count": 40,
   "metadata": {
    "ExecuteTime": {
     "end_time": "2020-03-11T22:26:04.323076Z",
     "start_time": "2020-03-11T22:25:39.186647Z"
    }
   },
   "outputs": [
    {
     "data": {
      "text/plain": [
       "(0.9998209339494756, 0.9998174591436612)"
      ]
     },
     "execution_count": 40,
     "metadata": {},
     "output_type": "execute_result"
    }
   ],
   "source": [
    "mdl.score(X_train, y_train), mdl.score(X_test, y_test)"
   ]
  },
  {
   "cell_type": "code",
   "execution_count": 41,
   "metadata": {
    "ExecuteTime": {
     "end_time": "2020-03-11T22:26:04.342544Z",
     "start_time": "2020-03-11T22:26:04.326071Z"
    }
   },
   "outputs": [
    {
     "data": {
      "text/plain": [
       "array([55.84946237, 46.3       , 60.25806452, 25.81111111, 44.61290323])"
      ]
     },
     "execution_count": 41,
     "metadata": {},
     "output_type": "execute_result"
    }
   ],
   "source": [
    "rf1.predict(X_test.head())"
   ]
  },
  {
   "cell_type": "code",
   "execution_count": 42,
   "metadata": {
    "ExecuteTime": {
     "end_time": "2020-03-11T22:26:04.362508Z",
     "start_time": "2020-03-11T22:26:04.346534Z"
    },
    "scrolled": true
   },
   "outputs": [
    {
     "data": {
      "text/plain": [
       "array([55.84946237, 46.3       , 60.25806452, 25.81111111, 44.61290323])"
      ]
     },
     "execution_count": 42,
     "metadata": {},
     "output_type": "execute_result"
    }
   ],
   "source": [
    "mdl.predict(X_test.head())"
   ]
  },
  {
   "cell_type": "markdown",
   "metadata": {},
   "source": [
    "Make simulation files"
   ]
  },
  {
   "cell_type": "code",
   "execution_count": 36,
   "metadata": {
    "ExecuteTime": {
     "end_time": "2020-03-11T03:55:26.999218Z",
     "start_time": "2020-03-11T03:55:26.940723Z"
    }
   },
   "outputs": [],
   "source": [
    "X['fuel'] = simul['fuel']\n",
    "X['state'] = simul['state']\n",
    "X['lat'] = simul['pp_lat']\n",
    "X['long'] = simul['pp_long']"
   ]
  },
  {
   "cell_type": "code",
   "execution_count": 37,
   "metadata": {
    "ExecuteTime": {
     "end_time": "2020-03-11T03:55:32.801505Z",
     "start_time": "2020-03-11T03:55:27.005666Z"
    }
   },
   "outputs": [],
   "source": [
    "X[X['distance'] <= 50].to_csv('../data/simul/rf_oz_Arizona_allpp_50.csv', index=False)\n",
    "X[(X['distance'] > 50) & (X['distance'] <= 100)].to_csv('../data/simul/rf_oz_Arizona_allpp_100.csv', index=False)\n",
    "X[(X['distance'] > 100) & (X['distance'] <= 150)].to_csv('../data/simul/rf_oz_Arizona_allpp_150.csv', index=False)"
   ]
  },
  {
   "cell_type": "code",
   "execution_count": 38,
   "metadata": {
    "ExecuteTime": {
     "end_time": "2020-03-11T03:55:32.826299Z",
     "start_time": "2020-03-11T03:55:32.806373Z"
    }
   },
   "outputs": [],
   "source": [
    "pd.DataFrame(columns=X_train.columns).to_csv('../data/simul/rf_oz_Arizona_allpp_columns.csv', index=False)"
   ]
  },
  {
   "cell_type": "code",
   "execution_count": null,
   "metadata": {},
   "outputs": [],
   "source": []
  },
  {
   "cell_type": "code",
   "execution_count": null,
   "metadata": {},
   "outputs": [],
   "source": []
  },
  {
   "cell_type": "code",
   "execution_count": null,
   "metadata": {},
   "outputs": [],
   "source": []
  },
  {
   "cell_type": "code",
   "execution_count": null,
   "metadata": {},
   "outputs": [],
   "source": []
  },
  {
   "cell_type": "code",
   "execution_count": null,
   "metadata": {},
   "outputs": [],
   "source": []
  },
  {
   "cell_type": "code",
   "execution_count": null,
   "metadata": {},
   "outputs": [],
   "source": []
  }
 ],
 "metadata": {
  "kernelspec": {
   "display_name": "Python 3.7.5 64-bit ('dsi': conda)",
   "language": "python",
   "name": "python37564bitdsicondaf2ff15180c8e4be887833033651321f8"
  },
  "language_info": {
   "codemirror_mode": {
    "name": "ipython",
    "version": 3
   },
   "file_extension": ".py",
   "mimetype": "text/x-python",
   "name": "python",
   "nbconvert_exporter": "python",
   "pygments_lexer": "ipython3",
   "version": "3.7.5"
  }
 },
 "nbformat": 4,
 "nbformat_minor": 2
}

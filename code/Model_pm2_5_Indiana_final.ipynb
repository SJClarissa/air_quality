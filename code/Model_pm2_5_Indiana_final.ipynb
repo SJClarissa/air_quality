{
 "cells": [
  {
   "cell_type": "markdown",
   "metadata": {},
   "source": [
    "## Modeling : Predicting AQI - PM 2.5 Indiana"
   ]
  },
  {
   "cell_type": "code",
   "execution_count": 1,
   "metadata": {
    "ExecuteTime": {
     "end_time": "2020-03-11T21:59:51.964917Z",
     "start_time": "2020-03-11T21:59:50.114611Z"
    }
   },
   "outputs": [],
   "source": [
    "import numpy as np\n",
    "import pandas as pd\n",
    "import seaborn as sns\n",
    "from matplotlib import pyplot as plt\n",
    "\n",
    "from sklearn.preprocessing import StandardScaler\n",
    "from sklearn.linear_model import LinearRegression, RidgeCV, LassoCV\n",
    "from sklearn.model_selection import train_test_split, cross_val_score, GridSearchCV\n",
    "from sklearn.pipeline import make_pipeline\n",
    "from sklearn.naive_bayes import MultinomialNB, GaussianNB\n",
    "from sklearn.svm import SVR\n",
    "from sklearn.neighbors import KNeighborsRegressor\n",
    "from sklearn.ensemble import AdaBoostRegressor, RandomForestRegressor, BaggingRegressor\n",
    "from sklearn.tree import DecisionTreeRegressor\n",
    "from sklearn import metrics\n",
    "from sklearn.decomposition import PCA\n",
    "import pickle"
   ]
  },
  {
   "cell_type": "code",
   "execution_count": 2,
   "metadata": {
    "ExecuteTime": {
     "end_time": "2020-03-11T21:59:55.942722Z",
     "start_time": "2020-03-11T21:59:51.966686Z"
    }
   },
   "outputs": [],
   "source": [
    "# Load air data with power plant information\n",
    "df = pd.read_csv('../data/pm2_5_pp_Indiana_mth_allpp.csv') # yaer 2018, 2016, 2014, 2012, 2010, 2009, 2007, 2005, 2004\n",
    "\n",
    "# Load vehicle data\n",
    "df_rv = pd.read_csv('../data/registered_vehicles.csv')"
   ]
  },
  {
   "cell_type": "code",
   "execution_count": 3,
   "metadata": {
    "ExecuteTime": {
     "end_time": "2020-03-11T21:59:55.951104Z",
     "start_time": "2020-03-11T21:59:55.946120Z"
    }
   },
   "outputs": [],
   "source": [
    "pd.set_option('display.max_rows', 999)\n",
    "pd.set_option('display.max_columns', 999)"
   ]
  },
  {
   "cell_type": "code",
   "execution_count": 4,
   "metadata": {
    "ExecuteTime": {
     "end_time": "2020-03-11T21:59:55.976076Z",
     "start_time": "2020-03-11T21:59:55.953102Z"
    }
   },
   "outputs": [
    {
     "data": {
      "text/html": [
       "<div>\n",
       "<style scoped>\n",
       "    .dataframe tbody tr th:only-of-type {\n",
       "        vertical-align: middle;\n",
       "    }\n",
       "\n",
       "    .dataframe tbody tr th {\n",
       "        vertical-align: top;\n",
       "    }\n",
       "\n",
       "    .dataframe thead th {\n",
       "        text-align: right;\n",
       "    }\n",
       "</style>\n",
       "<table border=\"1\" class=\"dataframe\">\n",
       "  <thead>\n",
       "    <tr style=\"text-align: right;\">\n",
       "      <th></th>\n",
       "      <th>date</th>\n",
       "      <th>air_lat</th>\n",
       "      <th>air_long</th>\n",
       "      <th>air_type</th>\n",
       "      <th>aqi</th>\n",
       "      <th>pp_lat</th>\n",
       "      <th>pp_long</th>\n",
       "      <th>pp_boiler</th>\n",
       "      <th>fuel</th>\n",
       "      <th>distance</th>\n",
       "      <th>dir</th>\n",
       "      <th>state</th>\n",
       "      <th>year</th>\n",
       "      <th>month</th>\n",
       "    </tr>\n",
       "  </thead>\n",
       "  <tbody>\n",
       "    <tr>\n",
       "      <th>0</th>\n",
       "      <td>2018-01</td>\n",
       "      <td>37.974436</td>\n",
       "      <td>-87.532289</td>\n",
       "      <td>pm2_5</td>\n",
       "      <td>38.3</td>\n",
       "      <td>41.9084</td>\n",
       "      <td>-89.0466</td>\n",
       "      <td>1.0</td>\n",
       "      <td>Gas</td>\n",
       "      <td>283.065534</td>\n",
       "      <td>NW</td>\n",
       "      <td>Illinois</td>\n",
       "      <td>2018</td>\n",
       "      <td>1</td>\n",
       "    </tr>\n",
       "  </tbody>\n",
       "</table>\n",
       "</div>"
      ],
      "text/plain": [
       "      date    air_lat   air_long air_type   aqi   pp_lat  pp_long  pp_boiler  \\\n",
       "0  2018-01  37.974436 -87.532289    pm2_5  38.3  41.9084 -89.0466        1.0   \n",
       "\n",
       "  fuel    distance dir     state  year  month  \n",
       "0  Gas  283.065534  NW  Illinois  2018      1  "
      ]
     },
     "execution_count": 4,
     "metadata": {},
     "output_type": "execute_result"
    }
   ],
   "source": [
    "df.head(1)"
   ]
  },
  {
   "cell_type": "code",
   "execution_count": 5,
   "metadata": {
    "ExecuteTime": {
     "end_time": "2020-03-11T21:59:55.989042Z",
     "start_time": "2020-03-11T21:59:55.978034Z"
    }
   },
   "outputs": [
    {
     "data": {
      "text/html": [
       "<div>\n",
       "<style scoped>\n",
       "    .dataframe tbody tr th:only-of-type {\n",
       "        vertical-align: middle;\n",
       "    }\n",
       "\n",
       "    .dataframe tbody tr th {\n",
       "        vertical-align: top;\n",
       "    }\n",
       "\n",
       "    .dataframe thead th {\n",
       "        text-align: right;\n",
       "    }\n",
       "</style>\n",
       "<table border=\"1\" class=\"dataframe\">\n",
       "  <thead>\n",
       "    <tr style=\"text-align: right;\">\n",
       "      <th></th>\n",
       "      <th>year</th>\n",
       "      <th>state</th>\n",
       "      <th>automobile</th>\n",
       "      <th>bus</th>\n",
       "      <th>truck</th>\n",
       "      <th>motorcycle</th>\n",
       "      <th>all_mv</th>\n",
       "    </tr>\n",
       "  </thead>\n",
       "  <tbody>\n",
       "    <tr>\n",
       "      <th>0</th>\n",
       "      <td>2017</td>\n",
       "      <td>Alabama</td>\n",
       "      <td>2065463</td>\n",
       "      <td>5682.0</td>\n",
       "      <td>2872743</td>\n",
       "      <td>112185.0</td>\n",
       "      <td>5056073.0</td>\n",
       "    </tr>\n",
       "  </tbody>\n",
       "</table>\n",
       "</div>"
      ],
      "text/plain": [
       "   year    state  automobile     bus    truck  motorcycle     all_mv\n",
       "0  2017  Alabama     2065463  5682.0  2872743    112185.0  5056073.0"
      ]
     },
     "execution_count": 5,
     "metadata": {},
     "output_type": "execute_result"
    }
   ],
   "source": [
    "df_rv.head(1)"
   ]
  },
  {
   "cell_type": "code",
   "execution_count": 6,
   "metadata": {
    "ExecuteTime": {
     "end_time": "2020-03-11T21:59:56.001016Z",
     "start_time": "2020-03-11T21:59:55.991027Z"
    }
   },
   "outputs": [
    {
     "data": {
      "text/plain": [
       "array([2017, 2016, 2015, 2014, 2013, 2012, 2011, 2010, 2009, 2008, 2007,\n",
       "       2006, 2005, 2004, 2003], dtype=int64)"
      ]
     },
     "execution_count": 6,
     "metadata": {},
     "output_type": "execute_result"
    }
   ],
   "source": [
    "df_rv['year'].unique()"
   ]
  },
  {
   "cell_type": "code",
   "execution_count": 7,
   "metadata": {
    "ExecuteTime": {
     "end_time": "2020-03-11T21:59:56.030892Z",
     "start_time": "2020-03-11T21:59:56.002966Z"
    }
   },
   "outputs": [
    {
     "data": {
      "text/plain": [
       "array([2018, 2016, 2014, 2012, 2010, 2009, 2007, 2005, 2004], dtype=int64)"
      ]
     },
     "execution_count": 7,
     "metadata": {},
     "output_type": "execute_result"
    }
   ],
   "source": [
    "df['year'].unique()"
   ]
  },
  {
   "cell_type": "code",
   "execution_count": 8,
   "metadata": {
    "ExecuteTime": {
     "end_time": "2020-03-11T21:59:56.038871Z",
     "start_time": "2020-03-11T21:59:56.033893Z"
    }
   },
   "outputs": [
    {
     "data": {
      "text/plain": [
       "(2863638, 14)"
      ]
     },
     "execution_count": 8,
     "metadata": {},
     "output_type": "execute_result"
    }
   ],
   "source": [
    "df.shape"
   ]
  },
  {
   "cell_type": "code",
   "execution_count": 9,
   "metadata": {
    "ExecuteTime": {
     "end_time": "2020-03-11T21:59:56.564018Z",
     "start_time": "2020-03-11T21:59:56.040866Z"
    },
    "scrolled": true
   },
   "outputs": [],
   "source": [
    "# Drop rows of year 2018 as we don't have 2018 vehicle data\n",
    "df.drop(df[df['year'] == 2018].index, axis=0, inplace=True)"
   ]
  },
  {
   "cell_type": "code",
   "execution_count": 10,
   "metadata": {
    "ExecuteTime": {
     "end_time": "2020-03-11T21:59:56.571005Z",
     "start_time": "2020-03-11T21:59:56.565016Z"
    }
   },
   "outputs": [
    {
     "data": {
      "text/plain": [
       "(2356394, 14)"
      ]
     },
     "execution_count": 10,
     "metadata": {},
     "output_type": "execute_result"
    }
   ],
   "source": [
    "df.shape"
   ]
  },
  {
   "cell_type": "code",
   "execution_count": 11,
   "metadata": {
    "ExecuteTime": {
     "end_time": "2020-03-11T21:59:56.947884Z",
     "start_time": "2020-03-11T21:59:56.573508Z"
    }
   },
   "outputs": [],
   "source": [
    "df['date'] = pd.to_datetime(df['date'])"
   ]
  },
  {
   "cell_type": "code",
   "execution_count": 12,
   "metadata": {
    "ExecuteTime": {
     "end_time": "2020-03-11T21:59:58.394521Z",
     "start_time": "2020-03-11T21:59:56.949840Z"
    }
   },
   "outputs": [],
   "source": [
    "df = df.merge(df_rv, on=['state', 'year'], how='left')"
   ]
  },
  {
   "cell_type": "code",
   "execution_count": 13,
   "metadata": {
    "ExecuteTime": {
     "end_time": "2020-03-11T21:59:59.310536Z",
     "start_time": "2020-03-11T21:59:58.395519Z"
    }
   },
   "outputs": [],
   "source": [
    "# df_oz = df[df['air_type'] == 'ozone']\n",
    "df_air = df[df['air_type'] == 'pm2_5']"
   ]
  },
  {
   "cell_type": "code",
   "execution_count": 14,
   "metadata": {
    "ExecuteTime": {
     "end_time": "2020-03-11T21:59:59.319526Z",
     "start_time": "2020-03-11T21:59:59.312295Z"
    }
   },
   "outputs": [
    {
     "data": {
      "text/plain": [
       "(2356394, 19)"
      ]
     },
     "execution_count": 14,
     "metadata": {},
     "output_type": "execute_result"
    }
   ],
   "source": [
    "df_air.shape"
   ]
  },
  {
   "cell_type": "code",
   "execution_count": 15,
   "metadata": {
    "ExecuteTime": {
     "end_time": "2020-03-11T21:59:59.348414Z",
     "start_time": "2020-03-11T21:59:59.323483Z"
    }
   },
   "outputs": [
    {
     "data": {
      "text/plain": [
       "(0.7547635207072424, 857.7132078390756)"
      ]
     },
     "execution_count": 15,
     "metadata": {},
     "output_type": "execute_result"
    }
   ],
   "source": [
    "df_air['distance'].min(), df_air['distance'].max()"
   ]
  },
  {
   "cell_type": "code",
   "execution_count": 16,
   "metadata": {
    "ExecuteTime": {
     "end_time": "2020-03-11T21:59:59.378330Z",
     "start_time": "2020-03-11T21:59:59.352401Z"
    }
   },
   "outputs": [
    {
     "data": {
      "text/html": [
       "<div>\n",
       "<style scoped>\n",
       "    .dataframe tbody tr th:only-of-type {\n",
       "        vertical-align: middle;\n",
       "    }\n",
       "\n",
       "    .dataframe tbody tr th {\n",
       "        vertical-align: top;\n",
       "    }\n",
       "\n",
       "    .dataframe thead th {\n",
       "        text-align: right;\n",
       "    }\n",
       "</style>\n",
       "<table border=\"1\" class=\"dataframe\">\n",
       "  <thead>\n",
       "    <tr style=\"text-align: right;\">\n",
       "      <th></th>\n",
       "      <th>date</th>\n",
       "      <th>air_lat</th>\n",
       "      <th>air_long</th>\n",
       "      <th>air_type</th>\n",
       "      <th>aqi</th>\n",
       "      <th>pp_lat</th>\n",
       "      <th>pp_long</th>\n",
       "      <th>pp_boiler</th>\n",
       "      <th>fuel</th>\n",
       "      <th>distance</th>\n",
       "      <th>dir</th>\n",
       "      <th>state</th>\n",
       "      <th>year</th>\n",
       "      <th>month</th>\n",
       "      <th>automobile</th>\n",
       "      <th>bus</th>\n",
       "      <th>truck</th>\n",
       "      <th>motorcycle</th>\n",
       "      <th>all_mv</th>\n",
       "    </tr>\n",
       "  </thead>\n",
       "  <tbody>\n",
       "    <tr>\n",
       "      <th>0</th>\n",
       "      <td>2016-01-01</td>\n",
       "      <td>37.974436</td>\n",
       "      <td>-87.532289</td>\n",
       "      <td>pm2_5</td>\n",
       "      <td>33.818182</td>\n",
       "      <td>41.9084</td>\n",
       "      <td>-89.0466</td>\n",
       "      <td>0.0</td>\n",
       "      <td>Gas</td>\n",
       "      <td>283.065534</td>\n",
       "      <td>NW</td>\n",
       "      <td>Illinois</td>\n",
       "      <td>2016</td>\n",
       "      <td>1</td>\n",
       "      <td>4524709</td>\n",
       "      <td>34936.0</td>\n",
       "      <td>5402730</td>\n",
       "      <td>314807.0</td>\n",
       "      <td>10277182.0</td>\n",
       "    </tr>\n",
       "  </tbody>\n",
       "</table>\n",
       "</div>"
      ],
      "text/plain": [
       "        date    air_lat   air_long air_type        aqi   pp_lat  pp_long  \\\n",
       "0 2016-01-01  37.974436 -87.532289    pm2_5  33.818182  41.9084 -89.0466   \n",
       "\n",
       "   pp_boiler fuel    distance dir     state  year  month  automobile      bus  \\\n",
       "0        0.0  Gas  283.065534  NW  Illinois  2016      1     4524709  34936.0   \n",
       "\n",
       "     truck  motorcycle      all_mv  \n",
       "0  5402730    314807.0  10277182.0  "
      ]
     },
     "execution_count": 16,
     "metadata": {},
     "output_type": "execute_result"
    }
   ],
   "source": [
    "df_air.head(1)"
   ]
  },
  {
   "cell_type": "code",
   "execution_count": 17,
   "metadata": {
    "ExecuteTime": {
     "end_time": "2020-03-11T21:59:59.622679Z",
     "start_time": "2020-03-11T21:59:59.381326Z"
    }
   },
   "outputs": [],
   "source": [
    "df_50 = df_air[['air_lat', 'air_long', 'distance']][df_air['distance'] <= 50]\n",
    "df_100 = df_air[['air_lat', 'air_long', 'distance']][df_air['distance'] <= 100]\n",
    "df_150 = df_air[['air_lat', 'air_long', 'distance']][df_air['distance'] <= 150]"
   ]
  },
  {
   "cell_type": "code",
   "execution_count": 18,
   "metadata": {
    "ExecuteTime": {
     "end_time": "2020-03-11T21:59:59.776293Z",
     "start_time": "2020-03-11T21:59:59.623676Z"
    }
   },
   "outputs": [],
   "source": [
    "df_50.drop_duplicates(inplace=True)\n",
    "df_100.drop_duplicates(inplace=True)\n",
    "df_150.drop_duplicates(inplace=True)"
   ]
  },
  {
   "cell_type": "code",
   "execution_count": 19,
   "metadata": {
    "ExecuteTime": {
     "end_time": "2020-03-11T21:59:59.829156Z",
     "start_time": "2020-03-11T21:59:59.778261Z"
    },
    "scrolled": true
   },
   "outputs": [],
   "source": [
    "df_50 = df_50.pivot_table(index=['air_lat', 'air_long'], values=['distance'], aggfunc='count')\n",
    "df_100 = df_100.pivot_table(index=['air_lat', 'air_long'], values=['distance'], aggfunc='count')\n",
    "df_150 = df_150.pivot_table(index=['air_lat', 'air_long'], values=['distance'], aggfunc='count')"
   ]
  },
  {
   "cell_type": "code",
   "execution_count": 20,
   "metadata": {
    "ExecuteTime": {
     "end_time": "2020-03-11T21:59:59.844085Z",
     "start_time": "2020-03-11T21:59:59.832120Z"
    },
    "scrolled": true
   },
   "outputs": [],
   "source": [
    "df_50.reset_index(level=['air_lat', 'air_long'], inplace=True)\n",
    "df_100.reset_index(level=['air_lat', 'air_long'], inplace=True)\n",
    "df_150.reset_index(level=['air_lat', 'air_long'], inplace=True)"
   ]
  },
  {
   "cell_type": "code",
   "execution_count": 21,
   "metadata": {
    "ExecuteTime": {
     "end_time": "2020-03-11T21:59:59.861043Z",
     "start_time": "2020-03-11T21:59:59.847077Z"
    }
   },
   "outputs": [],
   "source": [
    "df_50.rename(columns = {'distance':'num_pp_50_mi'}, inplace = True)\n",
    "df_100.rename(columns = {'distance':'num_pp_100_mi'}, inplace = True)\n",
    "df_150.rename(columns = {'distance':'num_pp_150_mi'}, inplace = True)"
   ]
  },
  {
   "cell_type": "code",
   "execution_count": 22,
   "metadata": {
    "ExecuteTime": {
     "end_time": "2020-03-11T22:00:05.348702Z",
     "start_time": "2020-03-11T21:59:59.864035Z"
    }
   },
   "outputs": [
    {
     "data": {
      "text/html": [
       "<div>\n",
       "<style scoped>\n",
       "    .dataframe tbody tr th:only-of-type {\n",
       "        vertical-align: middle;\n",
       "    }\n",
       "\n",
       "    .dataframe tbody tr th {\n",
       "        vertical-align: top;\n",
       "    }\n",
       "\n",
       "    .dataframe thead th {\n",
       "        text-align: right;\n",
       "    }\n",
       "</style>\n",
       "<table border=\"1\" class=\"dataframe\">\n",
       "  <thead>\n",
       "    <tr style=\"text-align: right;\">\n",
       "      <th></th>\n",
       "      <th>date</th>\n",
       "      <th>air_lat</th>\n",
       "      <th>air_long</th>\n",
       "      <th>air_type</th>\n",
       "      <th>aqi</th>\n",
       "      <th>pp_lat</th>\n",
       "      <th>pp_long</th>\n",
       "      <th>pp_boiler</th>\n",
       "      <th>fuel</th>\n",
       "      <th>distance</th>\n",
       "      <th>dir</th>\n",
       "      <th>state</th>\n",
       "      <th>year</th>\n",
       "      <th>month</th>\n",
       "      <th>automobile</th>\n",
       "      <th>bus</th>\n",
       "      <th>truck</th>\n",
       "      <th>motorcycle</th>\n",
       "      <th>all_mv</th>\n",
       "      <th>num_pp_50_mi</th>\n",
       "      <th>num_pp_100_mi</th>\n",
       "      <th>num_pp_150_mi</th>\n",
       "    </tr>\n",
       "  </thead>\n",
       "  <tbody>\n",
       "    <tr>\n",
       "      <th>0</th>\n",
       "      <td>2016-01-01</td>\n",
       "      <td>37.974436</td>\n",
       "      <td>-87.532289</td>\n",
       "      <td>pm2_5</td>\n",
       "      <td>33.818182</td>\n",
       "      <td>41.908400</td>\n",
       "      <td>-89.046600</td>\n",
       "      <td>0.0</td>\n",
       "      <td>Gas</td>\n",
       "      <td>283.065534</td>\n",
       "      <td>NW</td>\n",
       "      <td>Illinois</td>\n",
       "      <td>2016</td>\n",
       "      <td>1</td>\n",
       "      <td>4524709</td>\n",
       "      <td>34936.0</td>\n",
       "      <td>5402730</td>\n",
       "      <td>314807.0</td>\n",
       "      <td>10277182.0</td>\n",
       "      <td>48</td>\n",
       "      <td>121</td>\n",
       "      <td>253</td>\n",
       "    </tr>\n",
       "    <tr>\n",
       "      <th>1</th>\n",
       "      <td>2016-01-01</td>\n",
       "      <td>37.974436</td>\n",
       "      <td>-87.532289</td>\n",
       "      <td>pm2_5</td>\n",
       "      <td>33.818182</td>\n",
       "      <td>42.362222</td>\n",
       "      <td>-89.803611</td>\n",
       "      <td>0.0</td>\n",
       "      <td>Gas</td>\n",
       "      <td>325.701240</td>\n",
       "      <td>NW</td>\n",
       "      <td>Illinois</td>\n",
       "      <td>2016</td>\n",
       "      <td>1</td>\n",
       "      <td>4524709</td>\n",
       "      <td>34936.0</td>\n",
       "      <td>5402730</td>\n",
       "      <td>314807.0</td>\n",
       "      <td>10277182.0</td>\n",
       "      <td>48</td>\n",
       "      <td>121</td>\n",
       "      <td>253</td>\n",
       "    </tr>\n",
       "    <tr>\n",
       "      <th>2</th>\n",
       "      <td>2016-01-01</td>\n",
       "      <td>37.974436</td>\n",
       "      <td>-87.532289</td>\n",
       "      <td>pm2_5</td>\n",
       "      <td>33.818182</td>\n",
       "      <td>41.301700</td>\n",
       "      <td>-89.623600</td>\n",
       "      <td>0.0</td>\n",
       "      <td>Wind</td>\n",
       "      <td>255.193694</td>\n",
       "      <td>NW</td>\n",
       "      <td>Illinois</td>\n",
       "      <td>2016</td>\n",
       "      <td>1</td>\n",
       "      <td>4524709</td>\n",
       "      <td>34936.0</td>\n",
       "      <td>5402730</td>\n",
       "      <td>314807.0</td>\n",
       "      <td>10277182.0</td>\n",
       "      <td>48</td>\n",
       "      <td>121</td>\n",
       "      <td>253</td>\n",
       "    </tr>\n",
       "    <tr>\n",
       "      <th>3</th>\n",
       "      <td>2016-01-01</td>\n",
       "      <td>37.974436</td>\n",
       "      <td>-87.532289</td>\n",
       "      <td>pm2_5</td>\n",
       "      <td>33.818182</td>\n",
       "      <td>39.569771</td>\n",
       "      <td>-90.436020</td>\n",
       "      <td>0.0</td>\n",
       "      <td>Gas</td>\n",
       "      <td>191.544466</td>\n",
       "      <td>NW</td>\n",
       "      <td>Illinois</td>\n",
       "      <td>2016</td>\n",
       "      <td>1</td>\n",
       "      <td>4524709</td>\n",
       "      <td>34936.0</td>\n",
       "      <td>5402730</td>\n",
       "      <td>314807.0</td>\n",
       "      <td>10277182.0</td>\n",
       "      <td>48</td>\n",
       "      <td>121</td>\n",
       "      <td>253</td>\n",
       "    </tr>\n",
       "    <tr>\n",
       "      <th>4</th>\n",
       "      <td>2016-01-01</td>\n",
       "      <td>37.974436</td>\n",
       "      <td>-87.532289</td>\n",
       "      <td>pm2_5</td>\n",
       "      <td>33.818182</td>\n",
       "      <td>39.068747</td>\n",
       "      <td>-88.755547</td>\n",
       "      <td>0.0</td>\n",
       "      <td>Oil</td>\n",
       "      <td>100.452799</td>\n",
       "      <td>NW</td>\n",
       "      <td>Illinois</td>\n",
       "      <td>2016</td>\n",
       "      <td>1</td>\n",
       "      <td>4524709</td>\n",
       "      <td>34936.0</td>\n",
       "      <td>5402730</td>\n",
       "      <td>314807.0</td>\n",
       "      <td>10277182.0</td>\n",
       "      <td>48</td>\n",
       "      <td>121</td>\n",
       "      <td>253</td>\n",
       "    </tr>\n",
       "  </tbody>\n",
       "</table>\n",
       "</div>"
      ],
      "text/plain": [
       "        date    air_lat   air_long air_type        aqi     pp_lat    pp_long  \\\n",
       "0 2016-01-01  37.974436 -87.532289    pm2_5  33.818182  41.908400 -89.046600   \n",
       "1 2016-01-01  37.974436 -87.532289    pm2_5  33.818182  42.362222 -89.803611   \n",
       "2 2016-01-01  37.974436 -87.532289    pm2_5  33.818182  41.301700 -89.623600   \n",
       "3 2016-01-01  37.974436 -87.532289    pm2_5  33.818182  39.569771 -90.436020   \n",
       "4 2016-01-01  37.974436 -87.532289    pm2_5  33.818182  39.068747 -88.755547   \n",
       "\n",
       "   pp_boiler  fuel    distance dir     state  year  month  automobile  \\\n",
       "0        0.0   Gas  283.065534  NW  Illinois  2016      1     4524709   \n",
       "1        0.0   Gas  325.701240  NW  Illinois  2016      1     4524709   \n",
       "2        0.0  Wind  255.193694  NW  Illinois  2016      1     4524709   \n",
       "3        0.0   Gas  191.544466  NW  Illinois  2016      1     4524709   \n",
       "4        0.0   Oil  100.452799  NW  Illinois  2016      1     4524709   \n",
       "\n",
       "       bus    truck  motorcycle      all_mv  num_pp_50_mi  num_pp_100_mi  \\\n",
       "0  34936.0  5402730    314807.0  10277182.0            48            121   \n",
       "1  34936.0  5402730    314807.0  10277182.0            48            121   \n",
       "2  34936.0  5402730    314807.0  10277182.0            48            121   \n",
       "3  34936.0  5402730    314807.0  10277182.0            48            121   \n",
       "4  34936.0  5402730    314807.0  10277182.0            48            121   \n",
       "\n",
       "   num_pp_150_mi  \n",
       "0            253  \n",
       "1            253  \n",
       "2            253  \n",
       "3            253  \n",
       "4            253  "
      ]
     },
     "execution_count": 22,
     "metadata": {},
     "output_type": "execute_result"
    }
   ],
   "source": [
    "df_air = df_air.merge(df_50, on=['air_lat', 'air_long'], how='left')\n",
    "df_air = df_air.merge(df_100, on=['air_lat', 'air_long'], how='left')\n",
    "df_air = df_air.merge(df_150, on=['air_lat', 'air_long'], how='left')\n",
    "df_air.head()"
   ]
  },
  {
   "cell_type": "code",
   "execution_count": 23,
   "metadata": {
    "ExecuteTime": {
     "end_time": "2020-03-11T22:00:06.438441Z",
     "start_time": "2020-03-11T22:00:05.353689Z"
    }
   },
   "outputs": [
    {
     "data": {
      "text/plain": [
       "date             0\n",
       "air_lat          0\n",
       "air_long         0\n",
       "air_type         0\n",
       "aqi              0\n",
       "pp_lat           0\n",
       "pp_long          0\n",
       "pp_boiler        0\n",
       "fuel             0\n",
       "distance         0\n",
       "dir              0\n",
       "state            0\n",
       "year             0\n",
       "month            0\n",
       "automobile       0\n",
       "bus              0\n",
       "truck            0\n",
       "motorcycle       0\n",
       "all_mv           0\n",
       "num_pp_50_mi     0\n",
       "num_pp_100_mi    0\n",
       "num_pp_150_mi    0\n",
       "dtype: int64"
      ]
     },
     "execution_count": 23,
     "metadata": {},
     "output_type": "execute_result"
    }
   ],
   "source": [
    "df_air.isnull().sum()"
   ]
  },
  {
   "cell_type": "code",
   "execution_count": 24,
   "metadata": {
    "ExecuteTime": {
     "end_time": "2020-03-11T22:00:08.626871Z",
     "start_time": "2020-03-11T22:00:06.440479Z"
    },
    "scrolled": true
   },
   "outputs": [
    {
     "data": {
      "text/plain": [
       "aqi  aqi              1.000000\n",
       "     automobile       0.185255\n",
       "     bus              0.049150\n",
       "     distance         0.032701\n",
       "     month            0.032215\n",
       "     pp_lat           0.025280\n",
       "     air_lat         -0.000671\n",
       "     pp_boiler       -0.004989\n",
       "     num_pp_50_mi    -0.015591\n",
       "     pp_long         -0.020678\n",
       "     all_mv          -0.028668\n",
       "     air_long        -0.055027\n",
       "     num_pp_150_mi   -0.078686\n",
       "     num_pp_100_mi   -0.078983\n",
       "     motorcycle      -0.122736\n",
       "     truck           -0.299397\n",
       "     year            -0.580614\n",
       "dtype: float64"
      ]
     },
     "execution_count": 24,
     "metadata": {},
     "output_type": "execute_result"
    }
   ],
   "source": [
    "df_air.corr()[['aqi']].unstack().sort_values(kind=\"quicksort\", ascending = False)"
   ]
  },
  {
   "cell_type": "code",
   "execution_count": 25,
   "metadata": {
    "ExecuteTime": {
     "end_time": "2020-03-11T22:00:12.067327Z",
     "start_time": "2020-03-11T22:00:08.628832Z"
    }
   },
   "outputs": [
    {
     "data": {
      "image/png": "[encoded data removed]",
      "text/plain": [
       "<Figure size 1080x1080 with 20 Axes>"
      ]
     },
     "metadata": {
      "needs_background": "light"
     },
     "output_type": "display_data"
    }
   ],
   "source": [
    "df_air.hist(figsize=(15,15), bins=24);"
   ]
  },
  {
   "cell_type": "markdown",
   "metadata": {},
   "source": [
    "#### Preparing X and y"
   ]
  },
  {
   "cell_type": "code",
   "execution_count": 26,
   "metadata": {
    "ExecuteTime": {
     "end_time": "2020-03-11T22:00:12.076273Z",
     "start_time": "2020-03-11T22:00:12.069293Z"
    }
   },
   "outputs": [
    {
     "data": {
      "text/plain": [
       "Index(['date', 'air_lat', 'air_long', 'air_type', 'aqi', 'pp_lat', 'pp_long',\n",
       "       'pp_boiler', 'fuel', 'distance', 'dir', 'state', 'year', 'month',\n",
       "       'automobile', 'bus', 'truck', 'motorcycle', 'all_mv', 'num_pp_50_mi',\n",
       "       'num_pp_100_mi', 'num_pp_150_mi'],\n",
       "      dtype='object')"
      ]
     },
     "execution_count": 26,
     "metadata": {},
     "output_type": "execute_result"
    }
   ],
   "source": [
    "df_air.columns"
   ]
  },
  {
   "cell_type": "code",
   "execution_count": 27,
   "metadata": {
    "ExecuteTime": {
     "end_time": "2020-03-11T22:00:12.357357Z",
     "start_time": "2020-03-11T22:00:12.079267Z"
    },
    "scrolled": true
   },
   "outputs": [],
   "source": [
    "# 'date' column will be used only for timeseries modeling\n",
    "X = df_air.drop(columns=['date', 'air_lat', 'air_long', 'air_type', 'aqi'], axis=1)\n",
    "y = df_air['aqi']"
   ]
  },
  {
   "cell_type": "code",
   "execution_count": 28,
   "metadata": {
    "ExecuteTime": {
     "end_time": "2020-03-11T22:00:12.547677Z",
     "start_time": "2020-03-11T22:00:12.360321Z"
    }
   },
   "outputs": [],
   "source": [
    "# Make simulation data\n",
    "simul = X.copy()"
   ]
  },
  {
   "cell_type": "code",
   "execution_count": 29,
   "metadata": {
    "ExecuteTime": {
     "end_time": "2020-03-11T22:00:13.705151Z",
     "start_time": "2020-03-11T22:00:12.549403Z"
    }
   },
   "outputs": [],
   "source": [
    "X = X.drop(columns=['pp_lat', 'pp_long'], axis=1)\n",
    "X = pd.get_dummies(X, columns=['fuel', 'dir', 'month', 'state'], drop_first=True)"
   ]
  },
  {
   "cell_type": "code",
   "execution_count": 30,
   "metadata": {
    "ExecuteTime": {
     "end_time": "2020-03-11T22:00:13.719962Z",
     "start_time": "2020-03-11T22:00:13.710968Z"
    }
   },
   "outputs": [
    {
     "data": {
      "text/plain": [
       "37"
      ]
     },
     "execution_count": 30,
     "metadata": {},
     "output_type": "execute_result"
    }
   ],
   "source": [
    "len(X.columns)"
   ]
  },
  {
   "cell_type": "code",
   "execution_count": 31,
   "metadata": {
    "ExecuteTime": {
     "end_time": "2020-03-11T22:00:15.098969Z",
     "start_time": "2020-03-11T22:00:13.721938Z"
    }
   },
   "outputs": [],
   "source": [
    "X_train, X_test, y_train, y_test = train_test_split(X, y, random_state=42)"
   ]
  },
  {
   "cell_type": "code",
   "execution_count": 32,
   "metadata": {
    "ExecuteTime": {
     "end_time": "2020-03-11T22:00:15.109778Z",
     "start_time": "2020-03-11T22:00:15.101828Z"
    }
   },
   "outputs": [
    {
     "data": {
      "text/plain": [
       "((1767295, 37), (589099, 37), (1767295,), (589099,))"
      ]
     },
     "execution_count": 32,
     "metadata": {},
     "output_type": "execute_result"
    }
   ],
   "source": [
    "X_train.shape, X_test.shape, y_train.shape, y_test.shape"
   ]
  },
  {
   "cell_type": "markdown",
   "metadata": {},
   "source": [
    "#### Decision tree"
   ]
  },
  {
   "cell_type": "code",
   "execution_count": 33,
   "metadata": {
    "ExecuteTime": {
     "end_time": "2020-03-11T22:00:41.067802Z",
     "start_time": "2020-03-11T22:00:15.112768Z"
    }
   },
   "outputs": [
    {
     "data": {
      "text/plain": [
       "(0.9946499729980822, 0.9946305857520664)"
      ]
     },
     "execution_count": 33,
     "metadata": {},
     "output_type": "execute_result"
    }
   ],
   "source": [
    "dt2 = DecisionTreeRegressor(max_depth=20,\n",
    "                           min_samples_leaf=10,\n",
    "                           min_samples_split=30,\n",
    "                           random_state=42)\n",
    "dt2.fit(X_train, y_train)\n",
    "dt2.score(X_train, y_train), dt2.score(X_test, y_test)"
   ]
  },
  {
   "cell_type": "code",
   "execution_count": null,
   "metadata": {},
   "outputs": [],
   "source": []
  },
  {
   "cell_type": "markdown",
   "metadata": {},
   "source": [
    "#### Random Forest"
   ]
  },
  {
   "cell_type": "code",
   "execution_count": 34,
   "metadata": {
    "ExecuteTime": {
     "end_time": "2020-03-11T22:50:51.030002Z",
     "start_time": "2020-03-11T22:01:07.457403Z"
    }
   },
   "outputs": [
    {
     "data": {
      "text/plain": [
       "(0.9953664474135994, 0.9953492359007841)"
      ]
     },
     "execution_count": 34,
     "metadata": {},
     "output_type": "execute_result"
    }
   ],
   "source": [
    "rf1 = RandomForestRegressor(random_state=42, max_depth= 20, n_estimators= 150)\n",
    "rf1.fit(X_train, y_train)\n",
    "rf1.score(X_train, y_train), rf1.score(X_test, y_test)"
   ]
  },
  {
   "cell_type": "code",
   "execution_count": 95,
   "metadata": {
    "ExecuteTime": {
     "end_time": "2020-03-10T05:58:56.866233Z",
     "start_time": "2020-03-10T04:48:36.997538Z"
    }
   },
   "outputs": [
    {
     "data": {
      "text/plain": [
       "(0.995315105341456, 0.9952986809152871)"
      ]
     },
     "execution_count": 95,
     "metadata": {},
     "output_type": "execute_result"
    }
   ],
   "source": [
    "rf2 = RandomForestRegressor(random_state=42, max_depth= 20, n_estimators= 250)\n",
    "rf2.fit(X_train, y_train)\n",
    "rf2.score(X_train, y_train), rf2.score(X_test, y_test)"
   ]
  },
  {
   "cell_type": "code",
   "execution_count": null,
   "metadata": {
    "ExecuteTime": {
     "end_time": "2020-03-10T01:52:31.278554Z",
     "start_time": "2020-03-10T01:37:06.429Z"
    }
   },
   "outputs": [],
   "source": [
    "rf3 = RandomForestRegressor(random_state=42, max_depth= 20, n_estimators= 150)\n",
    "rf3.fit(X_train, y_train)\n",
    "rf3.score(X_train, y_train), rf3.score(X_test, y_test)"
   ]
  },
  {
   "cell_type": "code",
   "execution_count": 35,
   "metadata": {
    "ExecuteTime": {
     "end_time": "2020-03-11T22:50:51.071854Z",
     "start_time": "2020-03-11T22:50:51.034954Z"
    },
    "scrolled": true
   },
   "outputs": [],
   "source": [
    "df_result = pd.DataFrame()\n",
    "df_result['features'] = X_train.columns\n",
    "df_result['importance'] = rf1.feature_importances_\n",
    "df_imp = df_result.sort_values(by='importance', ascending=False)\n",
    "df_imp.reset_index(drop=True, inplace = True)"
   ]
  },
  {
   "cell_type": "code",
   "execution_count": 36,
   "metadata": {
    "ExecuteTime": {
     "end_time": "2020-03-11T22:50:51.154832Z",
     "start_time": "2020-03-11T22:50:51.074845Z"
    },
    "scrolled": true
   },
   "outputs": [
    {
     "data": {
      "text/html": [
       "<div>\n",
       "<style scoped>\n",
       "    .dataframe tbody tr th:only-of-type {\n",
       "        vertical-align: middle;\n",
       "    }\n",
       "\n",
       "    .dataframe tbody tr th {\n",
       "        vertical-align: top;\n",
       "    }\n",
       "\n",
       "    .dataframe thead th {\n",
       "        text-align: right;\n",
       "    }\n",
       "</style>\n",
       "<table border=\"1\" class=\"dataframe\">\n",
       "  <thead>\n",
       "    <tr style=\"text-align: right;\">\n",
       "      <th></th>\n",
       "      <th>features</th>\n",
       "      <th>importance</th>\n",
       "    </tr>\n",
       "  </thead>\n",
       "  <tbody>\n",
       "    <tr>\n",
       "      <th>0</th>\n",
       "      <td>year</td>\n",
       "      <td>4.934210e-01</td>\n",
       "    </tr>\n",
       "    <tr>\n",
       "      <th>1</th>\n",
       "      <td>num_pp_50_mi</td>\n",
       "      <td>7.452304e-02</td>\n",
       "    </tr>\n",
       "    <tr>\n",
       "      <th>2</th>\n",
       "      <td>num_pp_150_mi</td>\n",
       "      <td>6.785451e-02</td>\n",
       "    </tr>\n",
       "    <tr>\n",
       "      <th>3</th>\n",
       "      <td>month_2</td>\n",
       "      <td>5.918592e-02</td>\n",
       "    </tr>\n",
       "    <tr>\n",
       "      <th>4</th>\n",
       "      <td>num_pp_100_mi</td>\n",
       "      <td>5.679749e-02</td>\n",
       "    </tr>\n",
       "    <tr>\n",
       "      <th>5</th>\n",
       "      <td>month_10</td>\n",
       "      <td>4.484214e-02</td>\n",
       "    </tr>\n",
       "    <tr>\n",
       "      <th>6</th>\n",
       "      <td>month_5</td>\n",
       "      <td>3.479019e-02</td>\n",
       "    </tr>\n",
       "    <tr>\n",
       "      <th>7</th>\n",
       "      <td>month_9</td>\n",
       "      <td>3.375138e-02</td>\n",
       "    </tr>\n",
       "    <tr>\n",
       "      <th>8</th>\n",
       "      <td>month_4</td>\n",
       "      <td>3.243418e-02</td>\n",
       "    </tr>\n",
       "    <tr>\n",
       "      <th>9</th>\n",
       "      <td>month_11</td>\n",
       "      <td>2.542252e-02</td>\n",
       "    </tr>\n",
       "    <tr>\n",
       "      <th>10</th>\n",
       "      <td>month_8</td>\n",
       "      <td>2.164392e-02</td>\n",
       "    </tr>\n",
       "    <tr>\n",
       "      <th>11</th>\n",
       "      <td>month_3</td>\n",
       "      <td>1.987834e-02</td>\n",
       "    </tr>\n",
       "    <tr>\n",
       "      <th>12</th>\n",
       "      <td>month_7</td>\n",
       "      <td>1.367946e-02</td>\n",
       "    </tr>\n",
       "    <tr>\n",
       "      <th>13</th>\n",
       "      <td>month_12</td>\n",
       "      <td>1.091068e-02</td>\n",
       "    </tr>\n",
       "    <tr>\n",
       "      <th>14</th>\n",
       "      <td>month_6</td>\n",
       "      <td>1.086519e-02</td>\n",
       "    </tr>\n",
       "    <tr>\n",
       "      <th>15</th>\n",
       "      <td>distance</td>\n",
       "      <td>1.026440e-08</td>\n",
       "    </tr>\n",
       "    <tr>\n",
       "      <th>16</th>\n",
       "      <td>pp_boiler</td>\n",
       "      <td>1.608564e-09</td>\n",
       "    </tr>\n",
       "    <tr>\n",
       "      <th>17</th>\n",
       "      <td>state_Indiana</td>\n",
       "      <td>0.000000e+00</td>\n",
       "    </tr>\n",
       "    <tr>\n",
       "      <th>18</th>\n",
       "      <td>state_Kentucky</td>\n",
       "      <td>0.000000e+00</td>\n",
       "    </tr>\n",
       "    <tr>\n",
       "      <th>19</th>\n",
       "      <td>state_Michigan</td>\n",
       "      <td>0.000000e+00</td>\n",
       "    </tr>\n",
       "    <tr>\n",
       "      <th>20</th>\n",
       "      <td>state_Ohio</td>\n",
       "      <td>0.000000e+00</td>\n",
       "    </tr>\n",
       "    <tr>\n",
       "      <th>21</th>\n",
       "      <td>dir_NW</td>\n",
       "      <td>0.000000e+00</td>\n",
       "    </tr>\n",
       "    <tr>\n",
       "      <th>22</th>\n",
       "      <td>dir_SW</td>\n",
       "      <td>0.000000e+00</td>\n",
       "    </tr>\n",
       "    <tr>\n",
       "      <th>23</th>\n",
       "      <td>dir_SE</td>\n",
       "      <td>0.000000e+00</td>\n",
       "    </tr>\n",
       "    <tr>\n",
       "      <th>24</th>\n",
       "      <td>fuel_Wind</td>\n",
       "      <td>0.000000e+00</td>\n",
       "    </tr>\n",
       "    <tr>\n",
       "      <th>25</th>\n",
       "      <td>fuel_Sun</td>\n",
       "      <td>0.000000e+00</td>\n",
       "    </tr>\n",
       "    <tr>\n",
       "      <th>26</th>\n",
       "      <td>fuel_Oil</td>\n",
       "      <td>0.000000e+00</td>\n",
       "    </tr>\n",
       "    <tr>\n",
       "      <th>27</th>\n",
       "      <td>fuel_Nuclear</td>\n",
       "      <td>0.000000e+00</td>\n",
       "    </tr>\n",
       "    <tr>\n",
       "      <th>28</th>\n",
       "      <td>fuel_Hydro</td>\n",
       "      <td>0.000000e+00</td>\n",
       "    </tr>\n",
       "    <tr>\n",
       "      <th>29</th>\n",
       "      <td>fuel_Gas</td>\n",
       "      <td>0.000000e+00</td>\n",
       "    </tr>\n",
       "    <tr>\n",
       "      <th>30</th>\n",
       "      <td>fuel_Fossil_fuel</td>\n",
       "      <td>0.000000e+00</td>\n",
       "    </tr>\n",
       "    <tr>\n",
       "      <th>31</th>\n",
       "      <td>all_mv</td>\n",
       "      <td>0.000000e+00</td>\n",
       "    </tr>\n",
       "    <tr>\n",
       "      <th>32</th>\n",
       "      <td>motorcycle</td>\n",
       "      <td>0.000000e+00</td>\n",
       "    </tr>\n",
       "    <tr>\n",
       "      <th>33</th>\n",
       "      <td>truck</td>\n",
       "      <td>0.000000e+00</td>\n",
       "    </tr>\n",
       "    <tr>\n",
       "      <th>34</th>\n",
       "      <td>bus</td>\n",
       "      <td>0.000000e+00</td>\n",
       "    </tr>\n",
       "    <tr>\n",
       "      <th>35</th>\n",
       "      <td>automobile</td>\n",
       "      <td>0.000000e+00</td>\n",
       "    </tr>\n",
       "    <tr>\n",
       "      <th>36</th>\n",
       "      <td>state_Wisconsin</td>\n",
       "      <td>0.000000e+00</td>\n",
       "    </tr>\n",
       "  </tbody>\n",
       "</table>\n",
       "</div>"
      ],
      "text/plain": [
       "            features    importance\n",
       "0               year  4.934210e-01\n",
       "1       num_pp_50_mi  7.452304e-02\n",
       "2      num_pp_150_mi  6.785451e-02\n",
       "3            month_2  5.918592e-02\n",
       "4      num_pp_100_mi  5.679749e-02\n",
       "5           month_10  4.484214e-02\n",
       "6            month_5  3.479019e-02\n",
       "7            month_9  3.375138e-02\n",
       "8            month_4  3.243418e-02\n",
       "9           month_11  2.542252e-02\n",
       "10           month_8  2.164392e-02\n",
       "11           month_3  1.987834e-02\n",
       "12           month_7  1.367946e-02\n",
       "13          month_12  1.091068e-02\n",
       "14           month_6  1.086519e-02\n",
       "15          distance  1.026440e-08\n",
       "16         pp_boiler  1.608564e-09\n",
       "17     state_Indiana  0.000000e+00\n",
       "18    state_Kentucky  0.000000e+00\n",
       "19    state_Michigan  0.000000e+00\n",
       "20        state_Ohio  0.000000e+00\n",
       "21            dir_NW  0.000000e+00\n",
       "22            dir_SW  0.000000e+00\n",
       "23            dir_SE  0.000000e+00\n",
       "24         fuel_Wind  0.000000e+00\n",
       "25          fuel_Sun  0.000000e+00\n",
       "26          fuel_Oil  0.000000e+00\n",
       "27      fuel_Nuclear  0.000000e+00\n",
       "28        fuel_Hydro  0.000000e+00\n",
       "29          fuel_Gas  0.000000e+00\n",
       "30  fuel_Fossil_fuel  0.000000e+00\n",
       "31            all_mv  0.000000e+00\n",
       "32        motorcycle  0.000000e+00\n",
       "33             truck  0.000000e+00\n",
       "34               bus  0.000000e+00\n",
       "35        automobile  0.000000e+00\n",
       "36   state_Wisconsin  0.000000e+00"
      ]
     },
     "execution_count": 36,
     "metadata": {},
     "output_type": "execute_result"
    }
   ],
   "source": [
    "df_imp"
   ]
  },
  {
   "cell_type": "code",
   "execution_count": 37,
   "metadata": {
    "ExecuteTime": {
     "end_time": "2020-03-11T22:50:51.675397Z",
     "start_time": "2020-03-11T22:50:51.157788Z"
    }
   },
   "outputs": [
    {
     "data": {
      "image/png": "[encoded data removed]",
      "text/plain": [
       "<Figure size 1008x432 with 1 Axes>"
      ]
     },
     "metadata": {
      "needs_background": "light"
     },
     "output_type": "display_data"
    }
   ],
   "source": [
    "# Draw a barchart of performance of models\n",
    "fig = plt.figure(figsize = (14, 6))\n",
    "plt.bar(df_imp['features'], df_imp['importance'] * 100, color = 'gray')\n",
    "plt.xticks(rotation=90)\n",
    "plt.ylim(0, 50)\n",
    "\n",
    "for width, height in enumerate(df_imp['importance']):\n",
    "    plt.text(width-0.3, height * 100 + 0.4, round(height * 100, 2), rotation=90)\n",
    "\n",
    "fig.suptitle('Importance of features', fontsize=20)\n",
    "# plt.xlabel('[Model]', fontsize=16, position=(0.95,100))\n",
    "plt.ylabel('[%]', fontsize=16, rotation=0, position=(0,1.05))\n",
    "# plt.xticks(fontsize=15)\n",
    "# plt.yticks(fontsize=12)\n",
    "fig.savefig('../img/feature_importance_pm2_5_Indiana.png');"
   ]
  },
  {
   "cell_type": "markdown",
   "metadata": {},
   "source": [
    "Pickle a model"
   ]
  },
  {
   "cell_type": "code",
   "execution_count": 43,
   "metadata": {
    "ExecuteTime": {
     "end_time": "2020-03-11T23:59:59.787975Z",
     "start_time": "2020-03-11T23:59:59.573555Z"
    }
   },
   "outputs": [],
   "source": [
    "model_fn = './pickles/rf_pm2_5_Indiana_dsi.pickle'\n",
    "\n",
    "with open(model_fn, 'wb') as f:\n",
    "    pickle.dump(rf1, f)"
   ]
  },
  {
   "cell_type": "markdown",
   "metadata": {},
   "source": [
    "Load and test picked model"
   ]
  },
  {
   "cell_type": "code",
   "execution_count": 44,
   "metadata": {
    "ExecuteTime": {
     "end_time": "2020-03-12T00:00:00.740918Z",
     "start_time": "2020-03-12T00:00:00.568004Z"
    }
   },
   "outputs": [],
   "source": [
    "model_fn = './pickles/rf_pm2_5_Indiana_dsi.pickle'\n",
    "    \n",
    "with open(model_fn, 'rb') as f:\n",
    "    mdl = pickle.load(f)"
   ]
  },
  {
   "cell_type": "code",
   "execution_count": 40,
   "metadata": {
    "ExecuteTime": {
     "end_time": "2020-03-11T22:51:40.593181Z",
     "start_time": "2020-03-11T22:50:51.982133Z"
    }
   },
   "outputs": [
    {
     "data": {
      "text/plain": [
       "(0.9953664474135994, 0.9953492359007841)"
      ]
     },
     "execution_count": 40,
     "metadata": {},
     "output_type": "execute_result"
    }
   ],
   "source": [
    "mdl.score(X_train, y_train), mdl.score(X_test, y_test)"
   ]
  },
  {
   "cell_type": "code",
   "execution_count": 41,
   "metadata": {
    "ExecuteTime": {
     "end_time": "2020-03-11T22:51:40.614725Z",
     "start_time": "2020-03-11T22:51:40.596134Z"
    }
   },
   "outputs": [
    {
     "data": {
      "text/plain": [
       "array([55.75      , 39.72222222, 39.1       , 49.8       , 39.36363636])"
      ]
     },
     "execution_count": 41,
     "metadata": {},
     "output_type": "execute_result"
    }
   ],
   "source": [
    "rf1.predict(X_test.head())"
   ]
  },
  {
   "cell_type": "code",
   "execution_count": 42,
   "metadata": {
    "ExecuteTime": {
     "end_time": "2020-03-11T22:51:40.719832Z",
     "start_time": "2020-03-11T22:51:40.616231Z"
    },
    "scrolled": true
   },
   "outputs": [
    {
     "data": {
      "text/plain": [
       "array([55.75      , 39.72222222, 39.1       , 49.8       , 39.36363636])"
      ]
     },
     "execution_count": 42,
     "metadata": {},
     "output_type": "execute_result"
    }
   ],
   "source": [
    "mdl.predict(X_test.head())"
   ]
  },
  {
   "cell_type": "code",
   "execution_count": null,
   "metadata": {},
   "outputs": [],
   "source": []
  },
  {
   "cell_type": "markdown",
   "metadata": {},
   "source": [
    "Make simulation files"
   ]
  },
  {
   "cell_type": "code",
   "execution_count": 60,
   "metadata": {
    "ExecuteTime": {
     "end_time": "2020-03-11T02:59:04.550001Z",
     "start_time": "2020-03-11T02:59:04.544312Z"
    }
   },
   "outputs": [
    {
     "data": {
      "text/plain": [
       "Index(['pp_lat', 'pp_long', 'pp_boiler', 'fuel', 'distance', 'dir', 'state',\n",
       "       'year', 'month', 'automobile', 'bus', 'truck', 'motorcycle', 'all_mv',\n",
       "       'num_pp_50_mi', 'num_pp_100_mi', 'num_pp_150_mi'],\n",
       "      dtype='object')"
      ]
     },
     "execution_count": 60,
     "metadata": {},
     "output_type": "execute_result"
    }
   ],
   "source": [
    "simul.columns"
   ]
  },
  {
   "cell_type": "code",
   "execution_count": 64,
   "metadata": {
    "ExecuteTime": {
     "end_time": "2020-03-11T03:00:41.555677Z",
     "start_time": "2020-03-11T03:00:41.548239Z"
    }
   },
   "outputs": [
    {
     "data": {
      "text/plain": [
       "Index(['pp_boiler', 'distance', 'year', 'automobile', 'bus', 'truck',\n",
       "       'motorcycle', 'all_mv', 'num_pp_50_mi', 'num_pp_100_mi',\n",
       "       'num_pp_150_mi', 'fuel_Fossil_fuel', 'fuel_Gas', 'fuel_Hydro',\n",
       "       'fuel_Nuclear', 'fuel_Oil', 'fuel_Sun', 'fuel_Wind', 'dir_NW', 'dir_SE',\n",
       "       'dir_SW', 'month_2', 'month_3', 'month_4', 'month_5', 'month_6',\n",
       "       'month_7', 'month_8', 'month_9', 'month_10', 'month_11', 'month_12',\n",
       "       'state_Indiana', 'state_Kentucky', 'state_Michigan', 'state_Ohio',\n",
       "       'state_Wisconsin'],\n",
       "      dtype='object')"
      ]
     },
     "execution_count": 64,
     "metadata": {},
     "output_type": "execute_result"
    }
   ],
   "source": [
    "X_train.columns"
   ]
  },
  {
   "cell_type": "code",
   "execution_count": 65,
   "metadata": {
    "ExecuteTime": {
     "end_time": "2020-03-11T03:37:09.282940Z",
     "start_time": "2020-03-11T03:37:09.076607Z"
    }
   },
   "outputs": [],
   "source": [
    "X['fuel'] = simul['fuel']\n",
    "X['state'] = simul['state']\n",
    "X['lat'] = simul['pp_lat']\n",
    "X['long'] = simul['pp_long']"
   ]
  },
  {
   "cell_type": "code",
   "execution_count": 66,
   "metadata": {
    "ExecuteTime": {
     "end_time": "2020-03-11T03:38:00.812315Z",
     "start_time": "2020-03-11T03:37:09.288398Z"
    }
   },
   "outputs": [],
   "source": [
    "X[X['distance'] <= 50].to_csv('../data/simul/rf_pm_Indiana_allpp_50.csv', index=False)\n",
    "X[(X['distance'] > 50) & (X['distance'] <= 100)].to_csv('../data/simul/rf_pm_Indiana_allpp_100.csv', index=False)\n",
    "X[(X['distance'] > 100) & (X['distance'] <= 150)].to_csv('../data/simul/rf_pm_Indiana_allpp_150.csv', index=False)"
   ]
  },
  {
   "cell_type": "code",
   "execution_count": 67,
   "metadata": {
    "ExecuteTime": {
     "end_time": "2020-03-11T03:38:00.858443Z",
     "start_time": "2020-03-11T03:38:00.817234Z"
    }
   },
   "outputs": [],
   "source": [
    "pd.DataFrame(columns=X.columns).to_csv('../data/test/rf_pm_Indiana_allpp_columns.csv', index=False)"
   ]
  },
  {
   "cell_type": "code",
   "execution_count": null,
   "metadata": {},
   "outputs": [],
   "source": []
  },
  {
   "cell_type": "code",
   "execution_count": null,
   "metadata": {},
   "outputs": [],
   "source": []
  }
 ],
 "metadata": {
  "kernelspec": {
   "display_name": "Python 3.7.5 64-bit ('dsi': conda)",
   "language": "python",
   "name": "python37564bitdsicondaf2ff15180c8e4be887833033651321f8"
  },
  "language_info": {
   "codemirror_mode": {
    "name": "ipython",
    "version": 3
   },
   "file_extension": ".py",
   "mimetype": "text/x-python",
   "name": "python",
   "nbconvert_exporter": "python",
   "pygments_lexer": "ipython3",
   "version": "3.7.5"
  }
 },
 "nbformat": 4,
 "nbformat_minor": 2
}
